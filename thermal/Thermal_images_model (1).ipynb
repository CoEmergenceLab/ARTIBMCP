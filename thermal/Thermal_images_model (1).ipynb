{
  "nbformat": 4,
  "nbformat_minor": 0,
  "metadata": {
    "colab": {
      "provenance": []
    },
    "kernelspec": {
      "name": "python3",
      "display_name": "Python 3"
    },
    "language_info": {
      "name": "python"
    }
  },
  "cells": [
    {
      "cell_type": "code",
      "source": [
        "!pip uninstall tensorflow\n"
      ],
      "metadata": {
        "colab": {
          "base_uri": "https://localhost:8080/"
        },
        "id": "ddyY69QPrbjL",
        "outputId": "a4080577-f78c-4910-9367-aa69dc8139e7"
      },
      "execution_count": null,
      "outputs": [
        {
          "output_type": "stream",
          "name": "stdout",
          "text": [
            "Found existing installation: tensorflow 2.9.2\n",
            "Uninstalling tensorflow-2.9.2:\n",
            "  Would remove:\n",
            "    /usr/local/bin/estimator_ckpt_converter\n",
            "    /usr/local/bin/import_pb_to_tensorboard\n",
            "    /usr/local/bin/saved_model_cli\n",
            "    /usr/local/bin/tensorboard\n",
            "    /usr/local/bin/tf_upgrade_v2\n",
            "    /usr/local/bin/tflite_convert\n",
            "    /usr/local/bin/toco\n",
            "    /usr/local/bin/toco_from_protos\n",
            "    /usr/local/lib/python3.7/dist-packages/tensorflow-2.9.2.dist-info/*\n",
            "    /usr/local/lib/python3.7/dist-packages/tensorflow/*\n",
            "Proceed (y/n)? y\n",
            "  Successfully uninstalled tensorflow-2.9.2\n"
          ]
        }
      ]
    },
    {
      "cell_type": "code",
      "source": [
        "!pip install tensorflow"
      ],
      "metadata": {
        "colab": {
          "base_uri": "https://localhost:8080/"
        },
        "id": "clciIRqJtc7Y",
        "outputId": "f8a6c0ff-f615-4063-d0ed-220e6e0f221d"
      },
      "execution_count": null,
      "outputs": [
        {
          "output_type": "stream",
          "name": "stdout",
          "text": [
            "Looking in indexes: https://pypi.org/simple, https://us-python.pkg.dev/colab-wheels/public/simple/\n",
            "Collecting tensorflow\n",
            "  Downloading tensorflow-2.10.0-cp37-cp37m-manylinux_2_17_x86_64.manylinux2014_x86_64.whl (578.0 MB)\n",
            "\u001b[K     |████████████████████████████████| 578.0 MB 17 kB/s \n",
            "\u001b[?25hRequirement already satisfied: numpy>=1.20 in /usr/local/lib/python3.7/dist-packages (from tensorflow) (1.21.6)\n",
            "Requirement already satisfied: packaging in /usr/local/lib/python3.7/dist-packages (from tensorflow) (21.3)\n",
            "Requirement already satisfied: keras-preprocessing>=1.1.1 in /usr/local/lib/python3.7/dist-packages (from tensorflow) (1.1.2)\n",
            "Requirement already satisfied: grpcio<2.0,>=1.24.3 in /usr/local/lib/python3.7/dist-packages (from tensorflow) (1.50.0)\n",
            "Requirement already satisfied: libclang>=13.0.0 in /usr/local/lib/python3.7/dist-packages (from tensorflow) (14.0.6)\n",
            "Requirement already satisfied: typing-extensions>=3.6.6 in /usr/local/lib/python3.7/dist-packages (from tensorflow) (4.1.1)\n",
            "Collecting flatbuffers>=2.0\n",
            "  Downloading flatbuffers-22.9.24-py2.py3-none-any.whl (26 kB)\n",
            "Requirement already satisfied: h5py>=2.9.0 in /usr/local/lib/python3.7/dist-packages (from tensorflow) (3.1.0)\n",
            "Requirement already satisfied: absl-py>=1.0.0 in /usr/local/lib/python3.7/dist-packages (from tensorflow) (1.3.0)\n",
            "Requirement already satisfied: opt-einsum>=2.3.2 in /usr/local/lib/python3.7/dist-packages (from tensorflow) (3.3.0)\n",
            "Collecting keras<2.11,>=2.10.0\n",
            "  Downloading keras-2.10.0-py2.py3-none-any.whl (1.7 MB)\n",
            "\u001b[K     |████████████████████████████████| 1.7 MB 17.0 MB/s \n",
            "\u001b[?25hRequirement already satisfied: setuptools in /usr/local/lib/python3.7/dist-packages (from tensorflow) (57.4.0)\n",
            "Collecting tensorflow-estimator<2.11,>=2.10.0\n",
            "  Downloading tensorflow_estimator-2.10.0-py2.py3-none-any.whl (438 kB)\n",
            "\u001b[K     |████████████████████████████████| 438 kB 45.2 MB/s \n",
            "\u001b[?25hRequirement already satisfied: termcolor>=1.1.0 in /usr/local/lib/python3.7/dist-packages (from tensorflow) (2.0.1)\n",
            "Requirement already satisfied: astunparse>=1.6.0 in /usr/local/lib/python3.7/dist-packages (from tensorflow) (1.6.3)\n",
            "Collecting tensorboard<2.11,>=2.10\n",
            "  Downloading tensorboard-2.10.1-py3-none-any.whl (5.9 MB)\n",
            "\u001b[K     |████████████████████████████████| 5.9 MB 46.0 MB/s \n",
            "\u001b[?25hRequirement already satisfied: wrapt>=1.11.0 in /usr/local/lib/python3.7/dist-packages (from tensorflow) (1.14.1)\n",
            "Requirement already satisfied: protobuf<3.20,>=3.9.2 in /usr/local/lib/python3.7/dist-packages (from tensorflow) (3.17.3)\n",
            "Requirement already satisfied: six>=1.12.0 in /usr/local/lib/python3.7/dist-packages (from tensorflow) (1.15.0)\n",
            "Requirement already satisfied: tensorflow-io-gcs-filesystem>=0.23.1 in /usr/local/lib/python3.7/dist-packages (from tensorflow) (0.27.0)\n",
            "Requirement already satisfied: gast<=0.4.0,>=0.2.1 in /usr/local/lib/python3.7/dist-packages (from tensorflow) (0.4.0)\n",
            "Requirement already satisfied: google-pasta>=0.1.1 in /usr/local/lib/python3.7/dist-packages (from tensorflow) (0.2.0)\n",
            "Requirement already satisfied: wheel<1.0,>=0.23.0 in /usr/local/lib/python3.7/dist-packages (from astunparse>=1.6.0->tensorflow) (0.37.1)\n",
            "Requirement already satisfied: cached-property in /usr/local/lib/python3.7/dist-packages (from h5py>=2.9.0->tensorflow) (1.5.2)\n",
            "Requirement already satisfied: markdown>=2.6.8 in /usr/local/lib/python3.7/dist-packages (from tensorboard<2.11,>=2.10->tensorflow) (3.4.1)\n",
            "Requirement already satisfied: tensorboard-plugin-wit>=1.6.0 in /usr/local/lib/python3.7/dist-packages (from tensorboard<2.11,>=2.10->tensorflow) (1.8.1)\n",
            "Requirement already satisfied: tensorboard-data-server<0.7.0,>=0.6.0 in /usr/local/lib/python3.7/dist-packages (from tensorboard<2.11,>=2.10->tensorflow) (0.6.1)\n",
            "Requirement already satisfied: google-auth<3,>=1.6.3 in /usr/local/lib/python3.7/dist-packages (from tensorboard<2.11,>=2.10->tensorflow) (1.35.0)\n",
            "Requirement already satisfied: google-auth-oauthlib<0.5,>=0.4.1 in /usr/local/lib/python3.7/dist-packages (from tensorboard<2.11,>=2.10->tensorflow) (0.4.6)\n",
            "Requirement already satisfied: werkzeug>=1.0.1 in /usr/local/lib/python3.7/dist-packages (from tensorboard<2.11,>=2.10->tensorflow) (1.0.1)\n",
            "Requirement already satisfied: requests<3,>=2.21.0 in /usr/local/lib/python3.7/dist-packages (from tensorboard<2.11,>=2.10->tensorflow) (2.23.0)\n",
            "Requirement already satisfied: cachetools<5.0,>=2.0.0 in /usr/local/lib/python3.7/dist-packages (from google-auth<3,>=1.6.3->tensorboard<2.11,>=2.10->tensorflow) (4.2.4)\n",
            "Requirement already satisfied: pyasn1-modules>=0.2.1 in /usr/local/lib/python3.7/dist-packages (from google-auth<3,>=1.6.3->tensorboard<2.11,>=2.10->tensorflow) (0.2.8)\n",
            "Requirement already satisfied: rsa<5,>=3.1.4 in /usr/local/lib/python3.7/dist-packages (from google-auth<3,>=1.6.3->tensorboard<2.11,>=2.10->tensorflow) (4.9)\n",
            "Requirement already satisfied: requests-oauthlib>=0.7.0 in /usr/local/lib/python3.7/dist-packages (from google-auth-oauthlib<0.5,>=0.4.1->tensorboard<2.11,>=2.10->tensorflow) (1.3.1)\n",
            "Requirement already satisfied: importlib-metadata>=4.4 in /usr/local/lib/python3.7/dist-packages (from markdown>=2.6.8->tensorboard<2.11,>=2.10->tensorflow) (4.13.0)\n",
            "Requirement already satisfied: zipp>=0.5 in /usr/local/lib/python3.7/dist-packages (from importlib-metadata>=4.4->markdown>=2.6.8->tensorboard<2.11,>=2.10->tensorflow) (3.9.0)\n",
            "Requirement already satisfied: pyasn1<0.5.0,>=0.4.6 in /usr/local/lib/python3.7/dist-packages (from pyasn1-modules>=0.2.1->google-auth<3,>=1.6.3->tensorboard<2.11,>=2.10->tensorflow) (0.4.8)\n",
            "Requirement already satisfied: urllib3!=1.25.0,!=1.25.1,<1.26,>=1.21.1 in /usr/local/lib/python3.7/dist-packages (from requests<3,>=2.21.0->tensorboard<2.11,>=2.10->tensorflow) (1.24.3)\n",
            "Requirement already satisfied: idna<3,>=2.5 in /usr/local/lib/python3.7/dist-packages (from requests<3,>=2.21.0->tensorboard<2.11,>=2.10->tensorflow) (2.10)\n",
            "Requirement already satisfied: chardet<4,>=3.0.2 in /usr/local/lib/python3.7/dist-packages (from requests<3,>=2.21.0->tensorboard<2.11,>=2.10->tensorflow) (3.0.4)\n",
            "Requirement already satisfied: certifi>=2017.4.17 in /usr/local/lib/python3.7/dist-packages (from requests<3,>=2.21.0->tensorboard<2.11,>=2.10->tensorflow) (2022.9.24)\n",
            "Requirement already satisfied: oauthlib>=3.0.0 in /usr/local/lib/python3.7/dist-packages (from requests-oauthlib>=0.7.0->google-auth-oauthlib<0.5,>=0.4.1->tensorboard<2.11,>=2.10->tensorflow) (3.2.2)\n",
            "Requirement already satisfied: pyparsing!=3.0.5,>=2.0.2 in /usr/local/lib/python3.7/dist-packages (from packaging->tensorflow) (3.0.9)\n",
            "Installing collected packages: tensorflow-estimator, tensorboard, keras, flatbuffers, tensorflow\n",
            "  Attempting uninstall: tensorflow-estimator\n",
            "    Found existing installation: tensorflow-estimator 2.9.0\n",
            "    Uninstalling tensorflow-estimator-2.9.0:\n",
            "      Successfully uninstalled tensorflow-estimator-2.9.0\n",
            "  Attempting uninstall: tensorboard\n",
            "    Found existing installation: tensorboard 2.9.1\n",
            "    Uninstalling tensorboard-2.9.1:\n",
            "      Successfully uninstalled tensorboard-2.9.1\n",
            "  Attempting uninstall: keras\n",
            "    Found existing installation: keras 2.9.0\n",
            "    Uninstalling keras-2.9.0:\n",
            "      Successfully uninstalled keras-2.9.0\n",
            "  Attempting uninstall: flatbuffers\n",
            "    Found existing installation: flatbuffers 1.12\n",
            "    Uninstalling flatbuffers-1.12:\n",
            "      Successfully uninstalled flatbuffers-1.12\n",
            "Successfully installed flatbuffers-22.9.24 keras-2.10.0 tensorboard-2.10.1 tensorflow-2.10.0 tensorflow-estimator-2.10.0\n"
          ]
        }
      ]
    },
    {
      "cell_type": "code",
      "execution_count": 2,
      "metadata": {
        "id": "UssElSsvrOT-"
      },
      "outputs": [],
      "source": [
        "import os\n",
        "import argparse\n",
        "import csv\n",
        "import os\n",
        "import sys\n",
        "import matplotlib\n",
        "import matplotlib.pyplot as plt\n",
        "import functools\n",
        "import tensorflow as tf\n",
        "from keras import applications\n",
        "from keras.preprocessing import image\n",
        "from keras import layers\n",
        "from keras import Model\n",
        "from tensorflow.keras.utils import load_img\n",
        "from tensorflow.keras.utils import img_to_array\n",
        "import numpy as np\n",
        "import pandas \n",
        "from sklearn import (\n",
        "    decomposition,\n",
        "    manifold,\n",
        "    pipeline,\n",
        ")\n"
      ]
    },
    {
      "cell_type": "code",
      "source": [
        "# Importing data\n",
        "! gdown --id 1_RX4RjPuNwWAuRSoiSpK_B_RQmHVIqgu"
      ],
      "metadata": {
        "colab": {
          "base_uri": "https://localhost:8080/"
        },
        "id": "C2gx2oyzrRLn",
        "outputId": "22158026-6e5f-460b-f21a-a1fcdbff2e3e"
      },
      "execution_count": 3,
      "outputs": [
        {
          "output_type": "stream",
          "name": "stdout",
          "text": [
            "/usr/local/lib/python3.7/dist-packages/gdown/cli.py:131: FutureWarning: Option `--id` was deprecated in version 4.3.1 and will be removed in 5.0. You don't need to pass it anymore to use a file ID.\n",
            "  category=FutureWarning,\n",
            "Downloading...\n",
            "From: https://drive.google.com/uc?id=1_RX4RjPuNwWAuRSoiSpK_B_RQmHVIqgu\n",
            "To: /content/thermal.zip\n",
            "100% 9.15M/9.15M [00:00<00:00, 31.1MB/s]\n"
          ]
        }
      ]
    },
    {
      "cell_type": "code",
      "source": [
        "# Unzip the archive\n",
        "import zipfile\n",
        "local_zip = '/content/thermal.zip'\n",
        "zip_ref = zipfile.ZipFile(local_zip, 'r')\n",
        "zip_ref.extractall()\n",
        "zip_ref.close()"
      ],
      "metadata": {
        "id": "gr0ouhFgrROd"
      },
      "execution_count": 4,
      "outputs": []
    },
    {
      "cell_type": "code",
      "source": [
        "import os\n",
        "base_dir = 'thermal'\n",
        "lst_folders = os.listdir(base_dir)\n",
        "print(\"Contents of train directory:\")\n",
        "print(sorted(lst_folders))"
      ],
      "metadata": {
        "colab": {
          "base_uri": "https://localhost:8080/"
        },
        "id": "tXRVRpcvrRSG",
        "outputId": "4c2b50f4-1b47-4058-b9c2-bfd877546cde"
      },
      "execution_count": 5,
      "outputs": [
        {
          "output_type": "stream",
          "name": "stdout",
          "text": [
            "Contents of train directory:\n",
            "['d1']\n"
          ]
        }
      ]
    },
    {
      "cell_type": "code",
      "source": [
        "base_dir = 'thermal'\n",
        "d1_dir = os.path.join(base_dir, 'd1')\n",
        "\n",
        "\n",
        "# List of folders inside the train directory\n",
        "lst_of_dirs = [d1_dir]\n",
        "\n",
        "# Printing the number of files in each folder an the total number of images\n",
        "sum_of_imgs = 0\n",
        "for dir in lst_of_dirs:\n",
        "  sum_of_imgs += len(os.listdir(dir))\n",
        "  print('total training images in ' + dir + ':' , len(os.listdir(dir)))\n",
        "\n",
        "print('\\ntotal training images: ' + str(sum_of_imgs))\n",
        "print()\n",
        "\n",
        "# Printing few file names under each folder\n",
        "print(\"File names in every folder: \")\n",
        "for dir in lst_of_dirs:\n",
        "  print(dir + \": \" + str(os.listdir(dir)[:10]))"
      ],
      "metadata": {
        "colab": {
          "base_uri": "https://localhost:8080/"
        },
        "id": "VOaqDxrCx4T5",
        "outputId": "0f352893-e626-4c55-ce1a-65de4cfc2887"
      },
      "execution_count": 6,
      "outputs": [
        {
          "output_type": "stream",
          "name": "stdout",
          "text": [
            "total training images in thermal/d1: 701\n",
            "\n",
            "total training images: 701\n",
            "\n",
            "File names in every folder: \n",
            "thermal/d1: ['20220725-205754.jpg', '20220720-150601.jpg', '20220726-201652.jpg', '20220722-023559.jpg', '20220719-075112.jpg', '20220720-000602.jpg', '20220722-224909.jpg', '20220720-113601.jpg', '20220722-113559.jpg', '20220721-213559.jpg']\n"
          ]
        }
      ]
    },
    {
      "cell_type": "code",
      "source": [
        "# Expectation: Since the images are time series, images from each foler must\n",
        "# show us developement of plants in wells\n",
        "\n",
        "# Utilities for displaying image to check the logic \n",
        "folder_file_dict = {}\n",
        "for dir in lst_of_dirs:\n",
        "  if dir not in folder_file_dict:\n",
        "    name = dir[-2:] + '_files'\n",
        "    folder_file_dict[name] = []\n",
        "\n",
        "for k in folder_file_dict.keys():\n",
        "  for dir in lst_of_dirs:\n",
        "    if k[:2] == dir[-2:]:\n",
        "      folder_file_dict[k].extend(os.listdir(dir))\n",
        "\n",
        "%matplotlib inline\n",
        "import matplotlib.pyplot as plt\n",
        "import matplotlib.image as mpimg\n",
        "\n",
        "# Sorted list of images\n",
        "lst_of_cx_files = []\n",
        "for v in folder_file_dict.values():\n",
        "  lst_of_cx_files.append(sorted(v))\n",
        "\n",
        "# List of 2 images \n",
        "pic_index = 2\n",
        "display_lst = []\n",
        "for cx_dir, cx_files in zip(lst_of_dirs, lst_of_cx_files):\n",
        "  d = [os.path.join(cx_dir, fname) for fname in sorted(cx_files[pic_index-2:pic_index])]\n",
        "  display_lst.append(d)\n",
        "\n",
        "# List of images to be displayed\n",
        "final_display = []\n",
        "for d in display_lst:\n",
        "  final_display += d\n",
        "\n",
        "# Display each image\n",
        "for i, img_path in enumerate(final_display):\n",
        "  img = mpimg.imread(img_path)\n",
        "  print(img_path)\n",
        "  plt.imshow(img)\n",
        "  plt.axis('Off')\n",
        "  plt.show()"
      ],
      "metadata": {
        "colab": {
          "base_uri": "https://localhost:8080/",
          "height": 514
        },
        "id": "bjhf6m9krRVS",
        "outputId": "8a318b47-f49f-41c5-e5b0-daebf9e1360f"
      },
      "execution_count": 7,
      "outputs": [
        {
          "output_type": "stream",
          "name": "stdout",
          "text": [
            "thermal/d1/20220715-193723.jpg\n"
          ]
        },
        {
          "output_type": "display_data",
          "data": {
            "text/plain": [
              "<Figure size 432x288 with 1 Axes>"
            ],
            "image/png": "[encoded data removed]"
          },
          "metadata": {
            "needs_background": "light"
          }
        },
        {
          "output_type": "stream",
          "name": "stdout",
          "text": [
            "thermal/d1/20220715-195223.jpg\n"
          ]
        },
        {
          "output_type": "display_data",
          "data": {
            "text/plain": [
              "<Figure size 432x288 with 1 Axes>"
            ],
            "image/png": "[encoded data removed]"
          },
          "metadata": {
            "needs_background": "light"
          }
        }
      ]
    },
    {
      "cell_type": "code",
      "source": [
        "# Choosing a random image\n",
        "import secrets\n",
        "rand_sample_path = secrets.choice(final_display)\n",
        "sample_image  = load_img(rand_sample_path)\n",
        "# Convert the image into its numpy array representation\n",
        "sample_array = img_to_array(sample_image)\n",
        "print(f\"Random image has a shape of: {sample_array.shape}\")\n",
        "\n",
        "# Check if all the images are of the same shape\n",
        "all_paths = []\n",
        "for cx_dir, cx_files in zip(lst_of_dirs, lst_of_cx_files):\n",
        "  l = [os.path.join(cx_dir, fname) for fname in cx_files[:]]\n",
        "  all_paths.append(l)\n",
        "\n",
        "flat_lst_paths = [item for l in all_paths for item in l]\n",
        "rnd_img_shape = sample_array.shape\n",
        "cnt = 0\n",
        "tot_imgs = len(flat_lst_paths)\n",
        "for path in flat_lst_paths:\n",
        "  _image  = load_img(path)\n",
        "  _array = img_to_array(_image)\n",
        "  if rnd_img_shape == _array.shape:\n",
        "    cnt += 1\n",
        "if cnt == tot_imgs:\n",
        "  print(\"\\nAll images are of the same size\")"
      ],
      "metadata": {
        "colab": {
          "base_uri": "https://localhost:8080/"
        },
        "id": "3sd8k9L0rRYV",
        "outputId": "9b47c116-9a1a-40d3-8151-c844b505c268"
      },
      "execution_count": 8,
      "outputs": [
        {
          "output_type": "stream",
          "name": "stdout",
          "text": [
            "Random image has a shape of: (240, 320, 3)\n",
            "\n",
            "All images are of the same size\n"
          ]
        }
      ]
    },
    {
      "cell_type": "code",
      "source": [
        "import pickle"
      ],
      "metadata": {
        "id": "K_ZzhcNoz46Z"
      },
      "execution_count": 9,
      "outputs": []
    },
    {
      "cell_type": "code",
      "source": [
        "# Importing the model and methods for transfer learning\n",
        "from keras.applications.vgg16 import VGG16 \n",
        "from keras.models import Model\n",
        "from keras.applications.vgg16 import preprocess_input \n",
        "\n",
        "# load the model first and pass as an argument\n",
        "model = VGG16()\n",
        "model = Model(inputs = model.inputs, outputs = model.layers[-2].output)\n",
        "\n",
        "def extract_features(file, model):\n",
        "    # load the image as a 224x224 array\n",
        "    img = load_img(file, target_size=(224,224))\n",
        "    # convert from image to numpy array\n",
        "    img = img_to_array(img)\n",
        "    # reshape the data for the model reshape(num_of_samples, dim 1, dim 2, channels)\n",
        "    reshaped_img = img.reshape(1,224,224,3) \n",
        "    # prepare image for model\n",
        "    imgx = preprocess_input(reshaped_img)\n",
        "    # get the feature vector\n",
        "    features = model.predict(imgx, use_multiprocessing=True)\n",
        "    return features\n",
        "\n",
        "# The extracted features are stored in the HashMap otherwise stored in the \n",
        "# pickle file\n",
        "all_images = flat_lst_paths\n",
        "data = {}\n",
        "p = r\"/content/plant_features.pkl\"\n",
        "\n",
        "# loop through each image in the dataset\n",
        "for image in all_images:\n",
        "    # try to extract the features and update the dictionary\n",
        "    try:\n",
        "        feat = extract_features(image, model)\n",
        "        data[image] = feat\n",
        "    # if something fails, save the extracted features as a pickle file (optional)\n",
        "    except:\n",
        "        with open(p,'wb') as file:\n",
        "            pickle.dump(data, file)"
      ],
      "metadata": {
        "colab": {
          "base_uri": "https://localhost:8080/"
        },
        "id": "Pv6enogBrRb0",
        "outputId": "f3f064c7-986a-433f-92ec-b02f018f7883"
      },
      "execution_count": 10,
      "outputs": [
        {
          "output_type": "stream",
          "name": "stdout",
          "text": [
            "Downloading data from https://storage.googleapis.com/tensorflow/keras-applications/vgg16/vgg16_weights_tf_dim_ordering_tf_kernels.h5\n",
            "553467096/553467096 [==============================] - 10s 0us/step\n",
            "1/1 [==============================] - 1s 991ms/step\n",
            "1/1 [==============================] - 1s 588ms/step\n",
            "1/1 [==============================] - 1s 598ms/step\n",
            "1/1 [==============================] - 1s 582ms/step\n",
            "1/1 [==============================] - 1s 614ms/step\n",
            "1/1 [==============================] - 1s 620ms/step\n",
            "1/1 [==============================] - 1s 823ms/step\n",
            "1/1 [==============================] - 1s 1s/step\n",
            "1/1 [==============================] - 1s 1s/step\n",
            "1/1 [==============================] - 1s 1s/step\n",
            "1/1 [==============================] - 1s 1s/step\n",
            "1/1 [==============================] - 1s 1s/step\n",
            "1/1 [==============================] - 1s 908ms/step\n",
            "1/1 [==============================] - 1s 590ms/step\n",
            "1/1 [==============================] - 1s 601ms/step\n",
            "1/1 [==============================] - 1s 601ms/step\n",
            "1/1 [==============================] - 1s 585ms/step\n",
            "1/1 [==============================] - 1s 579ms/step\n",
            "1/1 [==============================] - 1s 593ms/step\n",
            "1/1 [==============================] - 1s 595ms/step\n",
            "1/1 [==============================] - 1s 585ms/step\n",
            "1/1 [==============================] - 1s 588ms/step\n",
            "1/1 [==============================] - 1s 588ms/step\n",
            "1/1 [==============================] - 1s 585ms/step\n",
            "1/1 [==============================] - 1s 586ms/step\n",
            "1/1 [==============================] - 1s 580ms/step\n",
            "1/1 [==============================] - 1s 587ms/step\n",
            "1/1 [==============================] - 1s 584ms/step\n",
            "1/1 [==============================] - 1s 583ms/step\n",
            "1/1 [==============================] - 1s 589ms/step\n",
            "1/1 [==============================] - 1s 582ms/step\n",
            "1/1 [==============================] - 1s 596ms/step\n",
            "1/1 [==============================] - 1s 621ms/step\n",
            "1/1 [==============================] - 1s 583ms/step\n",
            "1/1 [==============================] - 1s 588ms/step\n",
            "1/1 [==============================] - 1s 610ms/step\n",
            "1/1 [==============================] - 1s 577ms/step\n",
            "1/1 [==============================] - 1s 591ms/step\n",
            "1/1 [==============================] - 1s 580ms/step\n",
            "1/1 [==============================] - 1s 1s/step\n",
            "1/1 [==============================] - 1s 1s/step\n",
            "1/1 [==============================] - 1s 1s/step\n",
            "1/1 [==============================] - 1s 582ms/step\n",
            "1/1 [==============================] - 1s 583ms/step\n",
            "1/1 [==============================] - 1s 603ms/step\n",
            "1/1 [==============================] - 1s 585ms/step\n",
            "1/1 [==============================] - 1s 617ms/step\n",
            "1/1 [==============================] - 1s 590ms/step\n",
            "1/1 [==============================] - 1s 581ms/step\n",
            "1/1 [==============================] - 1s 602ms/step\n",
            "1/1 [==============================] - 1s 585ms/step\n",
            "1/1 [==============================] - 1s 592ms/step\n",
            "1/1 [==============================] - 1s 590ms/step\n",
            "1/1 [==============================] - 1s 581ms/step\n",
            "1/1 [==============================] - 1s 602ms/step\n",
            "1/1 [==============================] - 1s 590ms/step\n",
            "1/1 [==============================] - 1s 586ms/step\n",
            "1/1 [==============================] - 1s 598ms/step\n",
            "1/1 [==============================] - 1s 580ms/step\n",
            "1/1 [==============================] - 1s 595ms/step\n",
            "1/1 [==============================] - 1s 589ms/step\n",
            "1/1 [==============================] - 1s 589ms/step\n",
            "1/1 [==============================] - 1s 618ms/step\n",
            "1/1 [==============================] - 1s 582ms/step\n",
            "1/1 [==============================] - 1s 588ms/step\n",
            "1/1 [==============================] - 1s 605ms/step\n",
            "1/1 [==============================] - 1s 580ms/step\n",
            "1/1 [==============================] - 1s 590ms/step\n",
            "1/1 [==============================] - 1s 582ms/step\n",
            "1/1 [==============================] - 1s 583ms/step\n",
            "1/1 [==============================] - 1s 587ms/step\n",
            "1/1 [==============================] - 1s 583ms/step\n",
            "1/1 [==============================] - 1s 592ms/step\n",
            "1/1 [==============================] - 1s 595ms/step\n",
            "1/1 [==============================] - 1s 583ms/step\n",
            "1/1 [==============================] - 1s 588ms/step\n",
            "1/1 [==============================] - 1s 585ms/step\n",
            "1/1 [==============================] - 1s 590ms/step\n",
            "1/1 [==============================] - 1s 595ms/step\n",
            "1/1 [==============================] - 1s 601ms/step\n",
            "1/1 [==============================] - 1s 588ms/step\n",
            "1/1 [==============================] - 1s 581ms/step\n",
            "1/1 [==============================] - 1s 582ms/step\n",
            "1/1 [==============================] - 1s 591ms/step\n",
            "1/1 [==============================] - 1s 580ms/step\n",
            "1/1 [==============================] - 1s 595ms/step\n",
            "1/1 [==============================] - 1s 589ms/step\n",
            "1/1 [==============================] - 1s 589ms/step\n",
            "1/1 [==============================] - 1s 592ms/step\n",
            "1/1 [==============================] - 1s 582ms/step\n",
            "1/1 [==============================] - 1s 594ms/step\n",
            "1/1 [==============================] - 1s 590ms/step\n",
            "1/1 [==============================] - 1s 586ms/step\n",
            "1/1 [==============================] - 1s 590ms/step\n",
            "1/1 [==============================] - 1s 581ms/step\n",
            "1/1 [==============================] - 1s 590ms/step\n",
            "1/1 [==============================] - 1s 595ms/step\n",
            "1/1 [==============================] - 1s 586ms/step\n",
            "1/1 [==============================] - 1s 590ms/step\n",
            "1/1 [==============================] - 1s 604ms/step\n",
            "1/1 [==============================] - 1s 580ms/step\n",
            "1/1 [==============================] - 1s 604ms/step\n",
            "1/1 [==============================] - 1s 582ms/step\n",
            "1/1 [==============================] - 1s 593ms/step\n",
            "1/1 [==============================] - 1s 584ms/step\n",
            "1/1 [==============================] - 1s 595ms/step\n",
            "1/1 [==============================] - 1s 591ms/step\n",
            "1/1 [==============================] - 1s 581ms/step\n",
            "1/1 [==============================] - 1s 590ms/step\n",
            "1/1 [==============================] - 1s 591ms/step\n",
            "1/1 [==============================] - 1s 580ms/step\n",
            "1/1 [==============================] - 1s 594ms/step\n",
            "1/1 [==============================] - 1s 579ms/step\n",
            "1/1 [==============================] - 1s 588ms/step\n",
            "1/1 [==============================] - 1s 596ms/step\n",
            "1/1 [==============================] - 1s 581ms/step\n",
            "1/1 [==============================] - 1s 586ms/step\n",
            "1/1 [==============================] - 1s 587ms/step\n",
            "1/1 [==============================] - 1s 579ms/step\n",
            "1/1 [==============================] - 1s 591ms/step\n",
            "1/1 [==============================] - 1s 584ms/step\n",
            "1/1 [==============================] - 1s 590ms/step\n",
            "1/1 [==============================] - 1s 583ms/step\n",
            "1/1 [==============================] - 1s 581ms/step\n",
            "1/1 [==============================] - 1s 597ms/step\n",
            "1/1 [==============================] - 1s 592ms/step\n",
            "1/1 [==============================] - 1s 584ms/step\n",
            "1/1 [==============================] - 1s 607ms/step\n",
            "1/1 [==============================] - 1s 577ms/step\n",
            "1/1 [==============================] - 1s 591ms/step\n",
            "1/1 [==============================] - 1s 593ms/step\n",
            "1/1 [==============================] - 1s 582ms/step\n",
            "1/1 [==============================] - 1s 599ms/step\n",
            "1/1 [==============================] - 1s 592ms/step\n",
            "1/1 [==============================] - 1s 584ms/step\n",
            "1/1 [==============================] - 1s 591ms/step\n",
            "1/1 [==============================] - 1s 576ms/step\n",
            "1/1 [==============================] - 1s 594ms/step\n",
            "1/1 [==============================] - 1s 597ms/step\n",
            "1/1 [==============================] - 1s 588ms/step\n",
            "1/1 [==============================] - 1s 597ms/step\n",
            "1/1 [==============================] - 1s 582ms/step\n",
            "1/1 [==============================] - 1s 581ms/step\n",
            "1/1 [==============================] - 1s 606ms/step\n",
            "1/1 [==============================] - 1s 589ms/step\n",
            "1/1 [==============================] - 1s 735ms/step\n",
            "1/1 [==============================] - 1s 1s/step\n",
            "1/1 [==============================] - 1s 1s/step\n",
            "1/1 [==============================] - 1s 877ms/step\n",
            "1/1 [==============================] - 1s 594ms/step\n",
            "1/1 [==============================] - 1s 585ms/step\n",
            "1/1 [==============================] - 1s 589ms/step\n",
            "1/1 [==============================] - 1s 583ms/step\n",
            "1/1 [==============================] - 1s 577ms/step\n",
            "1/1 [==============================] - 1s 596ms/step\n",
            "1/1 [==============================] - 1s 585ms/step\n",
            "1/1 [==============================] - 1s 587ms/step\n",
            "1/1 [==============================] - 1s 592ms/step\n",
            "1/1 [==============================] - 1s 578ms/step\n",
            "1/1 [==============================] - 1s 604ms/step\n",
            "1/1 [==============================] - 1s 669ms/step\n",
            "1/1 [==============================] - 1s 794ms/step\n",
            "1/1 [==============================] - 1s 701ms/step\n",
            "1/1 [==============================] - 1s 604ms/step\n",
            "1/1 [==============================] - 1s 588ms/step\n",
            "1/1 [==============================] - 1s 588ms/step\n",
            "1/1 [==============================] - 1s 598ms/step\n",
            "1/1 [==============================] - 1s 585ms/step\n",
            "1/1 [==============================] - 1s 592ms/step\n",
            "1/1 [==============================] - 1s 581ms/step\n",
            "1/1 [==============================] - 1s 591ms/step\n",
            "1/1 [==============================] - 1s 595ms/step\n",
            "1/1 [==============================] - 1s 592ms/step\n",
            "1/1 [==============================] - 1s 592ms/step\n",
            "1/1 [==============================] - 1s 592ms/step\n",
            "1/1 [==============================] - 1s 587ms/step\n",
            "1/1 [==============================] - 1s 596ms/step\n",
            "1/1 [==============================] - 1s 584ms/step\n",
            "1/1 [==============================] - 1s 594ms/step\n",
            "1/1 [==============================] - 1s 593ms/step\n",
            "1/1 [==============================] - 1s 585ms/step\n",
            "1/1 [==============================] - 1s 590ms/step\n",
            "1/1 [==============================] - 1s 582ms/step\n",
            "1/1 [==============================] - 1s 596ms/step\n",
            "1/1 [==============================] - 1s 593ms/step\n",
            "1/1 [==============================] - 1s 578ms/step\n",
            "1/1 [==============================] - 1s 597ms/step\n",
            "1/1 [==============================] - 1s 578ms/step\n",
            "1/1 [==============================] - 1s 584ms/step\n",
            "1/1 [==============================] - 1s 586ms/step\n",
            "1/1 [==============================] - 1s 580ms/step\n",
            "1/1 [==============================] - 1s 600ms/step\n",
            "1/1 [==============================] - 1s 595ms/step\n",
            "1/1 [==============================] - 1s 581ms/step\n",
            "1/1 [==============================] - 1s 607ms/step\n",
            "1/1 [==============================] - 1s 588ms/step\n",
            "1/1 [==============================] - 1s 595ms/step\n",
            "1/1 [==============================] - 1s 591ms/step\n",
            "1/1 [==============================] - 1s 591ms/step\n",
            "1/1 [==============================] - 1s 592ms/step\n",
            "1/1 [==============================] - 1s 583ms/step\n",
            "1/1 [==============================] - 1s 583ms/step\n",
            "1/1 [==============================] - 1s 593ms/step\n",
            "1/1 [==============================] - 1s 580ms/step\n",
            "1/1 [==============================] - 1s 590ms/step\n",
            "1/1 [==============================] - 1s 593ms/step\n",
            "1/1 [==============================] - 1s 578ms/step\n",
            "1/1 [==============================] - 1s 601ms/step\n",
            "1/1 [==============================] - 1s 583ms/step\n",
            "1/1 [==============================] - 1s 592ms/step\n",
            "1/1 [==============================] - 1s 594ms/step\n",
            "1/1 [==============================] - 1s 579ms/step\n",
            "1/1 [==============================] - 1s 593ms/step\n",
            "1/1 [==============================] - 1s 583ms/step\n",
            "1/1 [==============================] - 1s 579ms/step\n",
            "1/1 [==============================] - 1s 594ms/step\n",
            "1/1 [==============================] - 1s 579ms/step\n",
            "1/1 [==============================] - 1s 590ms/step\n",
            "1/1 [==============================] - 1s 595ms/step\n",
            "1/1 [==============================] - 1s 586ms/step\n",
            "1/1 [==============================] - 1s 591ms/step\n",
            "1/1 [==============================] - 1s 584ms/step\n",
            "1/1 [==============================] - 1s 591ms/step\n",
            "1/1 [==============================] - 1s 601ms/step\n",
            "1/1 [==============================] - 1s 580ms/step\n",
            "1/1 [==============================] - 1s 590ms/step\n",
            "1/1 [==============================] - 1s 579ms/step\n",
            "1/1 [==============================] - 1s 589ms/step\n",
            "1/1 [==============================] - 1s 590ms/step\n",
            "1/1 [==============================] - 1s 585ms/step\n",
            "1/1 [==============================] - 1s 614ms/step\n",
            "1/1 [==============================] - 1s 590ms/step\n",
            "1/1 [==============================] - 1s 583ms/step\n",
            "1/1 [==============================] - 1s 601ms/step\n",
            "1/1 [==============================] - 1s 576ms/step\n",
            "1/1 [==============================] - 1s 589ms/step\n",
            "1/1 [==============================] - 1s 588ms/step\n",
            "1/1 [==============================] - 1s 586ms/step\n",
            "1/1 [==============================] - 1s 592ms/step\n",
            "1/1 [==============================] - 1s 589ms/step\n",
            "1/1 [==============================] - 1s 585ms/step\n",
            "1/1 [==============================] - 1s 605ms/step\n",
            "1/1 [==============================] - 1s 579ms/step\n",
            "1/1 [==============================] - 1s 593ms/step\n",
            "1/1 [==============================] - 1s 586ms/step\n",
            "1/1 [==============================] - 1s 583ms/step\n",
            "1/1 [==============================] - 1s 592ms/step\n",
            "1/1 [==============================] - 1s 578ms/step\n",
            "1/1 [==============================] - 1s 588ms/step\n",
            "1/1 [==============================] - 1s 593ms/step\n",
            "1/1 [==============================] - 1s 579ms/step\n",
            "1/1 [==============================] - 1s 597ms/step\n",
            "1/1 [==============================] - 1s 577ms/step\n",
            "1/1 [==============================] - 1s 591ms/step\n",
            "1/1 [==============================] - 1s 595ms/step\n",
            "1/1 [==============================] - 1s 582ms/step\n",
            "1/1 [==============================] - 1s 592ms/step\n",
            "1/1 [==============================] - 1s 584ms/step\n",
            "1/1 [==============================] - 1s 583ms/step\n",
            "1/1 [==============================] - 1s 593ms/step\n",
            "1/1 [==============================] - 1s 581ms/step\n",
            "1/1 [==============================] - 1s 591ms/step\n",
            "1/1 [==============================] - 1s 591ms/step\n",
            "1/1 [==============================] - 1s 581ms/step\n",
            "1/1 [==============================] - 1s 593ms/step\n",
            "1/1 [==============================] - 1s 584ms/step\n",
            "1/1 [==============================] - 1s 593ms/step\n",
            "1/1 [==============================] - 1s 594ms/step\n",
            "1/1 [==============================] - 1s 577ms/step\n",
            "1/1 [==============================] - 1s 592ms/step\n",
            "1/1 [==============================] - 1s 583ms/step\n",
            "1/1 [==============================] - 1s 592ms/step\n",
            "1/1 [==============================] - 1s 588ms/step\n",
            "1/1 [==============================] - 1s 583ms/step\n",
            "1/1 [==============================] - 1s 595ms/step\n",
            "1/1 [==============================] - 1s 579ms/step\n",
            "1/1 [==============================] - 1s 586ms/step\n",
            "1/1 [==============================] - 1s 592ms/step\n",
            "1/1 [==============================] - 1s 587ms/step\n",
            "1/1 [==============================] - 1s 596ms/step\n",
            "1/1 [==============================] - 1s 586ms/step\n",
            "1/1 [==============================] - 1s 584ms/step\n",
            "1/1 [==============================] - 1s 587ms/step\n",
            "1/1 [==============================] - 1s 580ms/step\n",
            "1/1 [==============================] - 1s 596ms/step\n",
            "1/1 [==============================] - 1s 616ms/step\n",
            "1/1 [==============================] - 1s 583ms/step\n",
            "1/1 [==============================] - 1s 599ms/step\n",
            "1/1 [==============================] - 1s 585ms/step\n",
            "1/1 [==============================] - 1s 596ms/step\n",
            "1/1 [==============================] - 1s 590ms/step\n",
            "1/1 [==============================] - 1s 588ms/step\n",
            "1/1 [==============================] - 1s 590ms/step\n",
            "1/1 [==============================] - 1s 586ms/step\n",
            "1/1 [==============================] - 1s 586ms/step\n",
            "1/1 [==============================] - 1s 593ms/step\n",
            "1/1 [==============================] - 1s 580ms/step\n",
            "1/1 [==============================] - 1s 592ms/step\n",
            "1/1 [==============================] - 1s 592ms/step\n",
            "1/1 [==============================] - 1s 573ms/step\n",
            "1/1 [==============================] - 1s 597ms/step\n",
            "1/1 [==============================] - 1s 577ms/step\n",
            "1/1 [==============================] - 1s 594ms/step\n",
            "1/1 [==============================] - 1s 593ms/step\n",
            "1/1 [==============================] - 1s 588ms/step\n",
            "1/1 [==============================] - 1s 593ms/step\n",
            "1/1 [==============================] - 1s 581ms/step\n",
            "1/1 [==============================] - 1s 580ms/step\n",
            "1/1 [==============================] - 1s 590ms/step\n",
            "1/1 [==============================] - 1s 581ms/step\n",
            "1/1 [==============================] - 1s 591ms/step\n",
            "1/1 [==============================] - 1s 589ms/step\n",
            "1/1 [==============================] - 1s 579ms/step\n",
            "1/1 [==============================] - 1s 617ms/step\n",
            "1/1 [==============================] - 1s 585ms/step\n",
            "1/1 [==============================] - 1s 594ms/step\n",
            "1/1 [==============================] - 1s 590ms/step\n",
            "1/1 [==============================] - 1s 584ms/step\n",
            "1/1 [==============================] - 1s 595ms/step\n",
            "1/1 [==============================] - 1s 582ms/step\n",
            "1/1 [==============================] - 1s 591ms/step\n",
            "1/1 [==============================] - 1s 589ms/step\n",
            "1/1 [==============================] - 1s 579ms/step\n",
            "1/1 [==============================] - 1s 591ms/step\n",
            "1/1 [==============================] - 1s 584ms/step\n",
            "1/1 [==============================] - 1s 593ms/step\n",
            "1/1 [==============================] - 1s 595ms/step\n",
            "1/1 [==============================] - 1s 584ms/step\n",
            "1/1 [==============================] - 1s 591ms/step\n",
            "1/1 [==============================] - 1s 594ms/step\n",
            "1/1 [==============================] - 1s 581ms/step\n",
            "1/1 [==============================] - 1s 593ms/step\n",
            "1/1 [==============================] - 1s 578ms/step\n",
            "1/1 [==============================] - 1s 592ms/step\n",
            "1/1 [==============================] - 1s 589ms/step\n",
            "1/1 [==============================] - 1s 587ms/step\n",
            "1/1 [==============================] - 1s 610ms/step\n",
            "1/1 [==============================] - 1s 599ms/step\n",
            "1/1 [==============================] - 1s 581ms/step\n",
            "1/1 [==============================] - 1s 598ms/step\n",
            "1/1 [==============================] - 1s 584ms/step\n",
            "1/1 [==============================] - 1s 597ms/step\n",
            "1/1 [==============================] - 1s 596ms/step\n",
            "1/1 [==============================] - 1s 583ms/step\n",
            "1/1 [==============================] - 1s 592ms/step\n",
            "1/1 [==============================] - 1s 587ms/step\n",
            "1/1 [==============================] - 1s 592ms/step\n",
            "1/1 [==============================] - 1s 593ms/step\n",
            "1/1 [==============================] - 1s 579ms/step\n",
            "1/1 [==============================] - 1s 590ms/step\n",
            "1/1 [==============================] - 1s 592ms/step\n",
            "1/1 [==============================] - 1s 586ms/step\n",
            "1/1 [==============================] - 1s 613ms/step\n",
            "1/1 [==============================] - 1s 602ms/step\n",
            "1/1 [==============================] - 1s 970ms/step\n",
            "1/1 [==============================] - 1s 1s/step\n",
            "1/1 [==============================] - 1s 982ms/step\n",
            "1/1 [==============================] - 1s 592ms/step\n",
            "1/1 [==============================] - 1s 596ms/step\n",
            "1/1 [==============================] - 1s 586ms/step\n",
            "1/1 [==============================] - 1s 593ms/step\n",
            "1/1 [==============================] - 1s 584ms/step\n",
            "1/1 [==============================] - 1s 581ms/step\n",
            "1/1 [==============================] - 1s 590ms/step\n",
            "1/1 [==============================] - 1s 585ms/step\n",
            "1/1 [==============================] - 1s 587ms/step\n",
            "1/1 [==============================] - 1s 602ms/step\n",
            "1/1 [==============================] - 1s 586ms/step\n",
            "1/1 [==============================] - 1s 591ms/step\n",
            "1/1 [==============================] - 1s 581ms/step\n",
            "1/1 [==============================] - 1s 598ms/step\n",
            "1/1 [==============================] - 1s 593ms/step\n",
            "1/1 [==============================] - 1s 584ms/step\n",
            "1/1 [==============================] - 1s 591ms/step\n",
            "1/1 [==============================] - 1s 577ms/step\n",
            "1/1 [==============================] - 1s 579ms/step\n",
            "1/1 [==============================] - 1s 591ms/step\n",
            "1/1 [==============================] - 1s 579ms/step\n",
            "1/1 [==============================] - 1s 591ms/step\n",
            "1/1 [==============================] - 1s 588ms/step\n",
            "1/1 [==============================] - 1s 583ms/step\n",
            "1/1 [==============================] - 1s 595ms/step\n",
            "1/1 [==============================] - 1s 602ms/step\n",
            "1/1 [==============================] - 1s 593ms/step\n",
            "1/1 [==============================] - 1s 591ms/step\n",
            "1/1 [==============================] - 1s 588ms/step\n",
            "1/1 [==============================] - 1s 594ms/step\n",
            "1/1 [==============================] - 1s 581ms/step\n",
            "1/1 [==============================] - 1s 585ms/step\n",
            "1/1 [==============================] - 1s 593ms/step\n",
            "1/1 [==============================] - 1s 579ms/step\n",
            "1/1 [==============================] - 1s 594ms/step\n",
            "1/1 [==============================] - 1s 575ms/step\n",
            "1/1 [==============================] - 1s 580ms/step\n",
            "1/1 [==============================] - 1s 594ms/step\n",
            "1/1 [==============================] - 1s 584ms/step\n",
            "1/1 [==============================] - 1s 591ms/step\n",
            "1/1 [==============================] - 1s 594ms/step\n",
            "1/1 [==============================] - 1s 578ms/step\n",
            "1/1 [==============================] - 1s 601ms/step\n",
            "1/1 [==============================] - 1s 582ms/step\n",
            "1/1 [==============================] - 1s 592ms/step\n",
            "1/1 [==============================] - 1s 596ms/step\n",
            "1/1 [==============================] - 1s 586ms/step\n",
            "1/1 [==============================] - 1s 591ms/step\n",
            "1/1 [==============================] - 1s 588ms/step\n",
            "1/1 [==============================] - 1s 599ms/step\n",
            "1/1 [==============================] - 1s 593ms/step\n",
            "1/1 [==============================] - 1s 581ms/step\n",
            "1/1 [==============================] - 1s 589ms/step\n",
            "1/1 [==============================] - 1s 600ms/step\n",
            "1/1 [==============================] - 1s 583ms/step\n",
            "1/1 [==============================] - 1s 593ms/step\n",
            "1/1 [==============================] - 1s 587ms/step\n",
            "1/1 [==============================] - 1s 587ms/step\n",
            "1/1 [==============================] - 1s 597ms/step\n",
            "1/1 [==============================] - 1s 584ms/step\n",
            "1/1 [==============================] - 1s 601ms/step\n",
            "1/1 [==============================] - 1s 603ms/step\n",
            "1/1 [==============================] - 1s 578ms/step\n",
            "1/1 [==============================] - 1s 594ms/step\n",
            "1/1 [==============================] - 1s 581ms/step\n",
            "1/1 [==============================] - 1s 596ms/step\n",
            "1/1 [==============================] - 1s 595ms/step\n",
            "1/1 [==============================] - 1s 584ms/step\n",
            "1/1 [==============================] - 1s 590ms/step\n",
            "1/1 [==============================] - 1s 578ms/step\n",
            "1/1 [==============================] - 1s 583ms/step\n",
            "1/1 [==============================] - 1s 585ms/step\n",
            "1/1 [==============================] - 1s 583ms/step\n",
            "1/1 [==============================] - 1s 600ms/step\n",
            "1/1 [==============================] - 1s 600ms/step\n",
            "1/1 [==============================] - 1s 581ms/step\n",
            "1/1 [==============================] - 1s 593ms/step\n",
            "1/1 [==============================] - 1s 577ms/step\n",
            "1/1 [==============================] - 1s 594ms/step\n",
            "1/1 [==============================] - 1s 594ms/step\n",
            "1/1 [==============================] - 1s 577ms/step\n",
            "1/1 [==============================] - 1s 586ms/step\n",
            "1/1 [==============================] - 1s 580ms/step\n",
            "1/1 [==============================] - 1s 599ms/step\n",
            "1/1 [==============================] - 1s 587ms/step\n",
            "1/1 [==============================] - 1s 578ms/step\n",
            "1/1 [==============================] - 1s 590ms/step\n",
            "1/1 [==============================] - 1s 583ms/step\n",
            "1/1 [==============================] - 1s 581ms/step\n",
            "1/1 [==============================] - 1s 599ms/step\n",
            "1/1 [==============================] - 1s 584ms/step\n",
            "1/1 [==============================] - 1s 590ms/step\n",
            "1/1 [==============================] - 1s 587ms/step\n",
            "1/1 [==============================] - 1s 579ms/step\n",
            "1/1 [==============================] - 1s 598ms/step\n",
            "1/1 [==============================] - 1s 580ms/step\n",
            "1/1 [==============================] - 1s 592ms/step\n",
            "1/1 [==============================] - 1s 592ms/step\n",
            "1/1 [==============================] - 1s 583ms/step\n",
            "1/1 [==============================] - 1s 590ms/step\n",
            "1/1 [==============================] - 1s 578ms/step\n",
            "1/1 [==============================] - 1s 587ms/step\n",
            "1/1 [==============================] - 1s 593ms/step\n",
            "1/1 [==============================] - 1s 586ms/step\n",
            "1/1 [==============================] - 1s 592ms/step\n",
            "1/1 [==============================] - 1s 584ms/step\n",
            "1/1 [==============================] - 1s 582ms/step\n",
            "1/1 [==============================] - 1s 595ms/step\n",
            "1/1 [==============================] - 1s 587ms/step\n",
            "1/1 [==============================] - 1s 596ms/step\n",
            "1/1 [==============================] - 1s 591ms/step\n",
            "1/1 [==============================] - 1s 581ms/step\n",
            "1/1 [==============================] - 1s 592ms/step\n",
            "1/1 [==============================] - 1s 584ms/step\n",
            "1/1 [==============================] - 1s 591ms/step\n",
            "1/1 [==============================] - 1s 595ms/step\n",
            "1/1 [==============================] - 1s 579ms/step\n",
            "1/1 [==============================] - 1s 589ms/step\n",
            "1/1 [==============================] - 1s 589ms/step\n",
            "1/1 [==============================] - 1s 584ms/step\n",
            "1/1 [==============================] - 1s 593ms/step\n",
            "1/1 [==============================] - 1s 589ms/step\n",
            "1/1 [==============================] - 1s 592ms/step\n",
            "1/1 [==============================] - 1s 587ms/step\n",
            "1/1 [==============================] - 1s 578ms/step\n",
            "1/1 [==============================] - 1s 591ms/step\n",
            "1/1 [==============================] - 1s 577ms/step\n",
            "1/1 [==============================] - 1s 588ms/step\n",
            "1/1 [==============================] - 1s 586ms/step\n",
            "1/1 [==============================] - 1s 596ms/step\n",
            "1/1 [==============================] - 1s 585ms/step\n",
            "1/1 [==============================] - 1s 579ms/step\n",
            "1/1 [==============================] - 1s 583ms/step\n",
            "1/1 [==============================] - 1s 596ms/step\n",
            "1/1 [==============================] - 1s 579ms/step\n",
            "1/1 [==============================] - 1s 598ms/step\n",
            "1/1 [==============================] - 1s 591ms/step\n",
            "1/1 [==============================] - 1s 578ms/step\n",
            "1/1 [==============================] - 1s 595ms/step\n",
            "1/1 [==============================] - 1s 577ms/step\n",
            "1/1 [==============================] - 1s 597ms/step\n",
            "1/1 [==============================] - 1s 588ms/step\n",
            "1/1 [==============================] - 1s 582ms/step\n",
            "1/1 [==============================] - 1s 599ms/step\n",
            "1/1 [==============================] - 1s 595ms/step\n",
            "1/1 [==============================] - 1s 584ms/step\n",
            "1/1 [==============================] - 1s 589ms/step\n",
            "1/1 [==============================] - 1s 579ms/step\n",
            "1/1 [==============================] - 1s 592ms/step\n",
            "1/1 [==============================] - 1s 580ms/step\n",
            "1/1 [==============================] - 1s 578ms/step\n",
            "1/1 [==============================] - 1s 589ms/step\n",
            "1/1 [==============================] - 1s 581ms/step\n",
            "1/1 [==============================] - 1s 591ms/step\n",
            "1/1 [==============================] - 1s 601ms/step\n",
            "1/1 [==============================] - 1s 585ms/step\n",
            "1/1 [==============================] - 1s 597ms/step\n",
            "1/1 [==============================] - 1s 591ms/step\n",
            "1/1 [==============================] - 1s 586ms/step\n",
            "1/1 [==============================] - 1s 592ms/step\n",
            "1/1 [==============================] - 1s 584ms/step\n",
            "1/1 [==============================] - 1s 596ms/step\n",
            "1/1 [==============================] - 1s 586ms/step\n",
            "1/1 [==============================] - 1s 583ms/step\n",
            "1/1 [==============================] - 1s 601ms/step\n",
            "1/1 [==============================] - 1s 594ms/step\n",
            "1/1 [==============================] - 1s 613ms/step\n",
            "1/1 [==============================] - 1s 614ms/step\n",
            "1/1 [==============================] - 1s 599ms/step\n",
            "1/1 [==============================] - 1s 616ms/step\n",
            "1/1 [==============================] - 1s 582ms/step\n",
            "1/1 [==============================] - 1s 596ms/step\n",
            "1/1 [==============================] - 1s 598ms/step\n",
            "1/1 [==============================] - 1s 584ms/step\n",
            "1/1 [==============================] - 1s 594ms/step\n",
            "1/1 [==============================] - 1s 592ms/step\n",
            "1/1 [==============================] - 1s 583ms/step\n",
            "1/1 [==============================] - 1s 589ms/step\n",
            "1/1 [==============================] - 1s 576ms/step\n",
            "1/1 [==============================] - 1s 585ms/step\n",
            "1/1 [==============================] - 1s 595ms/step\n",
            "1/1 [==============================] - 1s 582ms/step\n",
            "1/1 [==============================] - 1s 590ms/step\n",
            "1/1 [==============================] - 1s 589ms/step\n",
            "1/1 [==============================] - 1s 577ms/step\n",
            "1/1 [==============================] - 1s 583ms/step\n",
            "1/1 [==============================] - 1s 583ms/step\n",
            "1/1 [==============================] - 1s 588ms/step\n",
            "1/1 [==============================] - 1s 592ms/step\n",
            "1/1 [==============================] - 1s 586ms/step\n",
            "1/1 [==============================] - 1s 593ms/step\n",
            "1/1 [==============================] - 1s 583ms/step\n",
            "1/1 [==============================] - 1s 580ms/step\n",
            "1/1 [==============================] - 1s 594ms/step\n",
            "1/1 [==============================] - 1s 578ms/step\n",
            "1/1 [==============================] - 1s 593ms/step\n",
            "1/1 [==============================] - 1s 583ms/step\n",
            "1/1 [==============================] - 1s 583ms/step\n",
            "1/1 [==============================] - 1s 589ms/step\n",
            "1/1 [==============================] - 1s 575ms/step\n",
            "1/1 [==============================] - 1s 584ms/step\n",
            "1/1 [==============================] - 1s 594ms/step\n",
            "1/1 [==============================] - 1s 590ms/step\n",
            "1/1 [==============================] - 1s 600ms/step\n",
            "1/1 [==============================] - 1s 695ms/step\n",
            "1/1 [==============================] - 1s 1s/step\n",
            "1/1 [==============================] - 1s 1s/step\n",
            "1/1 [==============================] - 1s 731ms/step\n",
            "1/1 [==============================] - 1s 584ms/step\n",
            "1/1 [==============================] - 1s 609ms/step\n",
            "1/1 [==============================] - 1s 587ms/step\n",
            "1/1 [==============================] - 1s 587ms/step\n",
            "1/1 [==============================] - 1s 589ms/step\n",
            "1/1 [==============================] - 1s 577ms/step\n",
            "1/1 [==============================] - 1s 603ms/step\n",
            "1/1 [==============================] - 1s 574ms/step\n",
            "1/1 [==============================] - 1s 593ms/step\n",
            "1/1 [==============================] - 1s 600ms/step\n",
            "1/1 [==============================] - 1s 587ms/step\n",
            "1/1 [==============================] - 1s 590ms/step\n",
            "1/1 [==============================] - 1s 586ms/step\n",
            "1/1 [==============================] - 1s 572ms/step\n",
            "1/1 [==============================] - 1s 592ms/step\n",
            "1/1 [==============================] - 1s 592ms/step\n",
            "1/1 [==============================] - 1s 595ms/step\n",
            "1/1 [==============================] - 1s 592ms/step\n",
            "1/1 [==============================] - 1s 582ms/step\n",
            "1/1 [==============================] - 1s 596ms/step\n",
            "1/1 [==============================] - 1s 574ms/step\n",
            "1/1 [==============================] - 1s 591ms/step\n",
            "1/1 [==============================] - 1s 595ms/step\n",
            "1/1 [==============================] - 1s 581ms/step\n",
            "1/1 [==============================] - 1s 593ms/step\n",
            "1/1 [==============================] - 1s 588ms/step\n",
            "1/1 [==============================] - 1s 578ms/step\n",
            "1/1 [==============================] - 1s 604ms/step\n",
            "1/1 [==============================] - 1s 597ms/step\n",
            "1/1 [==============================] - 1s 587ms/step\n",
            "1/1 [==============================] - 1s 588ms/step\n",
            "1/1 [==============================] - 1s 581ms/step\n",
            "1/1 [==============================] - 1s 593ms/step\n",
            "1/1 [==============================] - 1s 590ms/step\n",
            "1/1 [==============================] - 1s 590ms/step\n",
            "1/1 [==============================] - 1s 594ms/step\n",
            "1/1 [==============================] - 1s 585ms/step\n",
            "1/1 [==============================] - 1s 594ms/step\n",
            "1/1 [==============================] - 1s 582ms/step\n",
            "1/1 [==============================] - 1s 583ms/step\n",
            "1/1 [==============================] - 1s 596ms/step\n",
            "1/1 [==============================] - 1s 579ms/step\n",
            "1/1 [==============================] - 1s 595ms/step\n",
            "1/1 [==============================] - 1s 590ms/step\n",
            "1/1 [==============================] - 1s 597ms/step\n",
            "1/1 [==============================] - 1s 595ms/step\n",
            "1/1 [==============================] - 1s 587ms/step\n",
            "1/1 [==============================] - 1s 576ms/step\n",
            "1/1 [==============================] - 1s 589ms/step\n",
            "1/1 [==============================] - 1s 581ms/step\n",
            "1/1 [==============================] - 1s 588ms/step\n",
            "1/1 [==============================] - 1s 592ms/step\n",
            "1/1 [==============================] - 1s 583ms/step\n",
            "1/1 [==============================] - 1s 599ms/step\n",
            "1/1 [==============================] - 1s 587ms/step\n",
            "1/1 [==============================] - 1s 601ms/step\n",
            "1/1 [==============================] - 1s 589ms/step\n",
            "1/1 [==============================] - 1s 579ms/step\n",
            "1/1 [==============================] - 1s 588ms/step\n",
            "1/1 [==============================] - 1s 582ms/step\n",
            "1/1 [==============================] - 1s 607ms/step\n",
            "1/1 [==============================] - 1s 589ms/step\n",
            "1/1 [==============================] - 1s 580ms/step\n",
            "1/1 [==============================] - 1s 585ms/step\n",
            "1/1 [==============================] - 1s 592ms/step\n",
            "1/1 [==============================] - 1s 578ms/step\n",
            "1/1 [==============================] - 1s 590ms/step\n",
            "1/1 [==============================] - 1s 580ms/step\n",
            "1/1 [==============================] - 1s 576ms/step\n",
            "1/1 [==============================] - 1s 640ms/step\n",
            "1/1 [==============================] - 1s 580ms/step\n",
            "1/1 [==============================] - 1s 600ms/step\n",
            "1/1 [==============================] - 1s 606ms/step\n",
            "1/1 [==============================] - 1s 577ms/step\n",
            "1/1 [==============================] - 1s 594ms/step\n",
            "1/1 [==============================] - 1s 583ms/step\n",
            "1/1 [==============================] - 1s 602ms/step\n",
            "1/1 [==============================] - 1s 592ms/step\n",
            "1/1 [==============================] - 1s 580ms/step\n",
            "1/1 [==============================] - 1s 585ms/step\n",
            "1/1 [==============================] - 1s 593ms/step\n",
            "1/1 [==============================] - 1s 576ms/step\n",
            "1/1 [==============================] - 1s 591ms/step\n",
            "1/1 [==============================] - 1s 581ms/step\n",
            "1/1 [==============================] - 1s 596ms/step\n",
            "1/1 [==============================] - 1s 591ms/step\n",
            "1/1 [==============================] - 1s 579ms/step\n",
            "1/1 [==============================] - 1s 606ms/step\n",
            "1/1 [==============================] - 1s 587ms/step\n",
            "1/1 [==============================] - 1s 578ms/step\n",
            "1/1 [==============================] - 1s 592ms/step\n",
            "1/1 [==============================] - 1s 575ms/step\n",
            "1/1 [==============================] - 1s 615ms/step\n",
            "1/1 [==============================] - 1s 588ms/step\n",
            "1/1 [==============================] - 1s 584ms/step\n",
            "1/1 [==============================] - 1s 588ms/step\n",
            "1/1 [==============================] - 1s 579ms/step\n",
            "1/1 [==============================] - 1s 588ms/step\n",
            "1/1 [==============================] - 1s 589ms/step\n",
            "1/1 [==============================] - 1s 577ms/step\n",
            "1/1 [==============================] - 1s 591ms/step\n",
            "1/1 [==============================] - 1s 598ms/step\n",
            "1/1 [==============================] - 1s 583ms/step\n",
            "1/1 [==============================] - 1s 591ms/step\n",
            "1/1 [==============================] - 1s 583ms/step\n",
            "1/1 [==============================] - 1s 605ms/step\n",
            "1/1 [==============================] - 1s 590ms/step\n",
            "1/1 [==============================] - 1s 582ms/step\n",
            "1/1 [==============================] - 1s 598ms/step\n",
            "1/1 [==============================] - 1s 578ms/step\n",
            "1/1 [==============================] - 1s 602ms/step\n",
            "1/1 [==============================] - 1s 585ms/step\n",
            "1/1 [==============================] - 1s 577ms/step\n",
            "1/1 [==============================] - 1s 598ms/step\n",
            "1/1 [==============================] - 1s 585ms/step\n",
            "1/1 [==============================] - 1s 582ms/step\n",
            "1/1 [==============================] - 1s 591ms/step\n",
            "1/1 [==============================] - 1s 577ms/step\n",
            "1/1 [==============================] - 1s 589ms/step\n",
            "1/1 [==============================] - 1s 593ms/step\n",
            "1/1 [==============================] - 1s 582ms/step\n",
            "1/1 [==============================] - 1s 593ms/step\n",
            "1/1 [==============================] - 1s 585ms/step\n",
            "1/1 [==============================] - 1s 586ms/step\n",
            "1/1 [==============================] - 1s 594ms/step\n",
            "1/1 [==============================] - 1s 600ms/step\n",
            "1/1 [==============================] - 1s 590ms/step\n",
            "1/1 [==============================] - 1s 592ms/step\n",
            "1/1 [==============================] - 1s 583ms/step\n",
            "1/1 [==============================] - 1s 592ms/step\n",
            "1/1 [==============================] - 1s 589ms/step\n",
            "1/1 [==============================] - 1s 591ms/step\n",
            "1/1 [==============================] - 1s 598ms/step\n",
            "1/1 [==============================] - 1s 595ms/step\n",
            "1/1 [==============================] - 1s 605ms/step\n",
            "1/1 [==============================] - 1s 598ms/step\n"
          ]
        }
      ]
    },
    {
      "cell_type": "code",
      "source": [],
      "metadata": {
        "id": "4y61FEM9K1xY"
      },
      "execution_count": 10,
      "outputs": []
    },
    {
      "cell_type": "code",
      "source": [
        "# List of the filenames\n",
        "filenames = np.array(list(data.keys()))\n",
        "# List of just the features\n",
        "feat = np.array(list(data.values()))\n",
        "# Reshaping the features\n",
        "feat = feat.reshape(-1,4096)"
      ],
      "metadata": {
        "id": "3TrhwoUDz2TC"
      },
      "execution_count": 11,
      "outputs": []
    },
    {
      "cell_type": "code",
      "source": [
        "# Importing PCA from sklearn library\n",
        "from sklearn.decomposition import PCA\n",
        "pca_n = PCA(svd_solver='full')\n",
        "x_pca_ = pca_n.fit_transform(feat)\n",
        "var_ = pca_n.explained_variance_ratio_.cumsum()\n",
        "\n",
        "# Plotting the fraction of variance explained vs. number of components \n",
        "fig, ax = plt.subplots(figsize=(4,2),dpi=150,)\n",
        "ax.grid('on', which='both', color=np.ones(3)*0.85)\n",
        "ax.plot(range(1,len(var_)+1), var_, color='darkviolet')\n",
        "ax.set_xscale('log')\n",
        "ax.set_xlabel('No. of components')\n",
        "ax.set_ylabel('Fraction of\\nvariance explained')\n",
        "yt = np.linspace(1/4, 1, 4)\n",
        "ytm = [np.mean([yt[i], yt[i+1]]) for i in range(len(yt)-1)]\n",
        "ax.set_yticks(ytm, minor=True)\n",
        "fig.tight_layout()\n",
        "\n",
        "# Results\n",
        "\n",
        "print('Variance preserved by 50 components: {:.3f}'.format(var_[50]))\n",
        "print('Variance preserved by 100 components: {:.3f}'.format(var_[100]))"
      ],
      "metadata": {
        "colab": {
          "base_uri": "https://localhost:8080/",
          "height": 342
        },
        "id": "kpHfRSndrRfE",
        "outputId": "fe30a935-c570-412b-d2eb-eb84c7a3a569"
      },
      "execution_count": 12,
      "outputs": [
        {
          "output_type": "stream",
          "name": "stdout",
          "text": [
            "Variance preserved by 50 components: 0.917\n",
            "Variance preserved by 100 components: 0.956\n"
          ]
        },
        {
          "output_type": "display_data",
          "data": {
            "text/plain": [
              "<Figure size 600x300 with 1 Axes>"
            ],
            "image/png": "[encoded data removed]"
          },
          "metadata": {
            "needs_background": "light"
          }
        }
      ]
    },
    {
      "cell_type": "code",
      "source": [
        "pca = PCA(n_components=50, svd_solver='full', random_state=22)\n",
        "pca.fit(feat)\n",
        "x = pca.transform(feat)\n",
        "print(\"Features of \" + str(feat.shape[0]) + \" images before dimensionality reduction with PCA: \" + str(feat.shape[1]))\n",
        "print(\"Features of \" + str(x.shape[0]) + \" images before dimensionality reduction with PCA: \" + str(x.shape[1]))"
      ],
      "metadata": {
        "colab": {
          "base_uri": "https://localhost:8080/"
        },
        "id": "Bc-zEdkALJGX",
        "outputId": "24de2fc3-74a6-49c6-f892-77adbbe74eed"
      },
      "execution_count": 13,
      "outputs": [
        {
          "output_type": "stream",
          "name": "stdout",
          "text": [
            "Features of 701 images before dimensionality reduction with PCA: 4096\n",
            "Features of 701 images before dimensionality reduction with PCA: 50\n"
          ]
        }
      ]
    },
    {
      "cell_type": "code",
      "source": [
        "import pandas as pd"
      ],
      "metadata": {
        "id": "p6BRZ_hk2EBc"
      },
      "execution_count": 14,
      "outputs": []
    },
    {
      "cell_type": "code",
      "source": [
        "# Importing TSNE from sklearn\n",
        "from sklearn.manifold import TSNE\n",
        "# Plotting t-sne plots with different Perplexities\n",
        "plt.figure(figsize = (8,4))\n",
        "plt.subplots_adjust(top = 1.5)\n",
        "list_of_perplexity = [5, 10, 15, 25]\n",
        "for index, p in enumerate(list_of_perplexity):\n",
        "    tsne = TSNE(n_components = 2, perplexity = p, random_state=0)\n",
        "    tsne_results = tsne.fit_transform(x)\n",
        "    tsne_results=pd.DataFrame(tsne_results, columns=['tsne1', 'tsne2'])\n",
        "    plt.subplot(2,2,index+1)\n",
        "    plt.scatter(tsne_results['tsne1'], tsne_results['tsne2'], s=30)\n",
        "    plt.title('Perplexity = '+ str(p))\n",
        "plt.show()"
      ],
      "metadata": {
        "colab": {
          "base_uri": "https://localhost:8080/",
          "height": 738
        },
        "id": "Zun7hbkO10iv",
        "outputId": "0e5fd421-f111-4977-9b00-b8ca8e355d27"
      },
      "execution_count": 15,
      "outputs": [
        {
          "output_type": "stream",
          "name": "stderr",
          "text": [
            "/usr/local/lib/python3.7/dist-packages/sklearn/manifold/_t_sne.py:783: FutureWarning: The default initialization in TSNE will change from 'random' to 'pca' in 1.2.\n",
            "  FutureWarning,\n",
            "/usr/local/lib/python3.7/dist-packages/sklearn/manifold/_t_sne.py:793: FutureWarning: The default learning rate in TSNE will change from 200.0 to 'auto' in 1.2.\n",
            "  FutureWarning,\n",
            "/usr/local/lib/python3.7/dist-packages/sklearn/manifold/_t_sne.py:783: FutureWarning: The default initialization in TSNE will change from 'random' to 'pca' in 1.2.\n",
            "  FutureWarning,\n",
            "/usr/local/lib/python3.7/dist-packages/sklearn/manifold/_t_sne.py:793: FutureWarning: The default learning rate in TSNE will change from 200.0 to 'auto' in 1.2.\n",
            "  FutureWarning,\n",
            "/usr/local/lib/python3.7/dist-packages/sklearn/manifold/_t_sne.py:783: FutureWarning: The default initialization in TSNE will change from 'random' to 'pca' in 1.2.\n",
            "  FutureWarning,\n",
            "/usr/local/lib/python3.7/dist-packages/sklearn/manifold/_t_sne.py:793: FutureWarning: The default learning rate in TSNE will change from 200.0 to 'auto' in 1.2.\n",
            "  FutureWarning,\n",
            "/usr/local/lib/python3.7/dist-packages/sklearn/manifold/_t_sne.py:783: FutureWarning: The default initialization in TSNE will change from 'random' to 'pca' in 1.2.\n",
            "  FutureWarning,\n",
            "/usr/local/lib/python3.7/dist-packages/sklearn/manifold/_t_sne.py:793: FutureWarning: The default learning rate in TSNE will change from 200.0 to 'auto' in 1.2.\n",
            "  FutureWarning,\n"
          ]
        },
        {
          "output_type": "display_data",
          "data": {
            "text/plain": [
              "<Figure size 576x288 with 4 Axes>"
            ],
            "image/png": "[encoded data removed]"
          },
          "metadata": {
            "needs_background": "light"
          }
        }
      ]
    },
    {
      "cell_type": "code",
      "source": [
        "# Number of clusters of KMeans\n",
        "from sklearn.cluster import KMeans\n",
        "wcss = []\n",
        "for i in range(1,9):\n",
        "  kmeans = KMeans(i)\n",
        "  kmeans.fit(feat)\n",
        "  wcss_iter = kmeans.inertia_\n",
        "  wcss.append(wcss_iter)\n",
        "\n",
        "# Plotting the elbow \n",
        "no_clusters = range(1,9)\n",
        "plt.plot(no_clusters, wcss)\n",
        "plt.title('Elbow Method')\n",
        "plt.xlabel(\"No. of clusters\")\n",
        "plt.ylabel(\"Within-cluster Sum of Squares\")"
      ],
      "metadata": {
        "colab": {
          "base_uri": "https://localhost:8080/",
          "height": 312
        },
        "id": "U9Vjmjrq10lz",
        "outputId": "706fdbda-83a1-4920-cdef-41c43b2b754a"
      },
      "execution_count": 16,
      "outputs": [
        {
          "output_type": "execute_result",
          "data": {
            "text/plain": [
              "Text(0, 0.5, 'Within-cluster Sum of Squares')"
            ]
          },
          "metadata": {},
          "execution_count": 16
        },
        {
          "output_type": "display_data",
          "data": {
            "text/plain": [
              "<Figure size 432x288 with 1 Axes>"
            ],
            "image/png": "[encoded data removed]"
          },
          "metadata": {
            "needs_background": "light"
          }
        }
      ]
    },
    {
      "cell_type": "code",
      "source": [
        "kmeans = KMeans(n_clusters=3, random_state=22)\n",
        "kmeans.fit(x)\n",
        "labels = kmeans.labels_\n",
        "print(str(len(np.unique(labels))) + \" labels generated for \" + str(len(labels)) + \" images\")\n",
        "print(\"Unique ID's in generated labels: \" + str(np.unique(labels)))"
      ],
      "metadata": {
        "colab": {
          "base_uri": "https://localhost:8080/"
        },
        "id": "8mliRUEVK2zv",
        "outputId": "71eda10e-7ede-4ccd-c96a-b58fa3351e33"
      },
      "execution_count": 17,
      "outputs": [
        {
          "output_type": "stream",
          "name": "stdout",
          "text": [
            "3 labels generated for 701 images\n",
            "Unique ID's in generated labels: [0 1 2]\n"
          ]
        }
      ]
    },
    {
      "cell_type": "code",
      "source": [
        "# Grouping all images and respective labels as key and value pairs\n",
        "groups_imgs = {}\n",
        "for file, cluster in zip(filenames,kmeans.labels_):\n",
        "    if cluster not in groups_imgs.keys():\n",
        "        groups_imgs[cluster] = []\n",
        "        groups_imgs[cluster].append(file)\n",
        "    else:\n",
        "        groups_imgs[cluster].append(file)\n",
        "print(\"Keys of each groups: \" + str(groups_imgs.keys()))"
      ],
      "metadata": {
        "colab": {
          "base_uri": "https://localhost:8080/"
        },
        "id": "UXkkAVlQK260",
        "outputId": "731b96e5-fa78-443c-9d24-d1b410e8995a"
      },
      "execution_count": 18,
      "outputs": [
        {
          "output_type": "stream",
          "name": "stdout",
          "text": [
            "Keys of each groups: dict_keys([1, 0, 2])\n"
          ]
        }
      ]
    },
    {
      "cell_type": "code",
      "source": [
        "import pickle\n",
        "pickle.dump(kmeans, open('kmeans_thermal.pkl', 'wb'))\n",
        "pickle.dump(pca, open('pca_thermal.pkl', 'wb'))"
      ],
      "metadata": {
        "id": "a1jw8WvjK29-"
      },
      "execution_count": 19,
      "outputs": []
    },
    {
      "cell_type": "code",
      "source": [
        "kmeans_pkl = \"kmeans_thermal.pkl\"\n",
        "pca_pkl= \"pca_thermal.pkl\"\n",
        "pickled_kmeans = pickle.load(open(kmeans_pkl, 'rb'))\n",
        "pickled_pca = pickle.load(open(pca_pkl, 'rb'))\n",
        "\n",
        "# test_img_rotated = test_img_org.rotate(180)"
      ],
      "metadata": {
        "id": "3ONI9S2dK3A6"
      },
      "execution_count": 20,
      "outputs": []
    },
    {
      "cell_type": "code",
      "source": [
        "test_img_path = \"/content/thermal/d1/20220729-103008.jpg\"\n",
        "test_img = mpimg.imread(test_img_path)\n",
        "print(test_img_path)\n",
        "plt.imshow(test_img)\n",
        "plt.axis('Off')\n",
        "plt.show()"
      ],
      "metadata": {
        "colab": {
          "base_uri": "https://localhost:8080/",
          "height": 265
        },
        "id": "X_6ZBwsuK3Dw",
        "outputId": "9168afa1-c646-415d-a2fb-a533662c8138"
      },
      "execution_count": 21,
      "outputs": [
        {
          "output_type": "stream",
          "name": "stdout",
          "text": [
            "/content/thermal/d1/20220729-103008.jpg\n"
          ]
        },
        {
          "output_type": "display_data",
          "data": {
            "text/plain": [
              "<Figure size 432x288 with 1 Axes>"
            ],
            "image/png": "[encoded data removed]"
          },
          "metadata": {
            "needs_background": "light"
          }
        }
      ]
    },
    {
      "cell_type": "code",
      "source": [
        "test_data = {}\n",
        "test_img_feat = extract_features(test_img_path, model)\n",
        "test_data[test_img_path] = test_img_feat\n",
        "test_filename = np.array(list(test_data.keys()))\n",
        "print(\"Test image file name: \" + str(test_filename[0]))\n",
        "print(\"Shape of test image: \" + str(test_img_feat.shape))\n",
        "reduced_test_feat = pca.transform(test_img_feat)\n",
        "print(\"Shape of pca reduced test image: \" + str(reduced_test_feat.shape))"
      ],
      "metadata": {
        "colab": {
          "base_uri": "https://localhost:8080/"
        },
        "id": "7vonVUaSK3Go",
        "outputId": "1d585de6-f1e6-48f7-ed05-79d28c91e1e6"
      },
      "execution_count": 22,
      "outputs": [
        {
          "output_type": "stream",
          "name": "stdout",
          "text": [
            "1/1 [==============================] - 1s 608ms/step\n",
            "Test image file name: /content/thermal/d1/20220729-103008.jpg\n",
            "Shape of test image: (1, 4096)\n",
            "Shape of pca reduced test image: (1, 50)\n"
          ]
        }
      ]
    },
    {
      "cell_type": "code",
      "source": [
        "# Prediction result\n",
        "pickled_kmeans.predict(reduced_test_feat)"
      ],
      "metadata": {
        "colab": {
          "base_uri": "https://localhost:8080/"
        },
        "id": "u71adGulT2Tx",
        "outputId": "0230c96a-20dd-4293-ffc9-1730d9ece789"
      },
      "execution_count": 23,
      "outputs": [
        {
          "output_type": "execute_result",
          "data": {
            "text/plain": [
              "array([2], dtype=int32)"
            ]
          },
          "metadata": {},
          "execution_count": 23
        }
      ]
    },
    {
      "cell_type": "code",
      "source": [],
      "metadata": {
        "id": "B7LxnpoCT2XN"
      },
      "execution_count": 23,
      "outputs": []
    }
  ]
}