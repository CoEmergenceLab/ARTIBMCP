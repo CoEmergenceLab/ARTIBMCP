{
  "nbformat": 4,
  "nbformat_minor": 0,
  "metadata": {
    "colab": {
      "provenance": [],
      "collapsed_sections": []
    },
    "language_info": {
      "codemirror_mode": {
        "name": "ipython",
        "version": 3
      },
      "file_extension": ".py",
      "mimetype": "text/x-python",
      "name": "python",
      "nbconvert_exporter": "python",
      "pygments_lexer": "ipython3",
      "version": "3.6.3"
    },
    "kernelspec": {
      "display_name": "Python 3",
      "language": "python",
      "name": "python3"
    }
  },
  "cells": [
    {
      "cell_type": "code",
      "source": [
        "!pip uninstall tensorflow\n",
        "!pip install tensorflow"
      ],
      "metadata": {
        "id": "ZCNt7MwDuUsU"
      },
      "execution_count": null,
      "outputs": []
    },
    {
      "metadata": {
        "id": "U3AxWwW8BLgs"
      },
      "cell_type": "code",
      "source": [
        "import argparse\n",
        "import csv\n",
        "import os\n",
        "import sys\n",
        "import matplotlib\n",
        "import matplotlib.pyplot as plt\n",
        "import functools\n",
        "import tensorflow as tf\n",
        "from tensorflow.keras.applications.resnet50 import ResNet50\n",
        "from keras import applications\n",
        "from tensorflow.keras.applications.resnet50 import preprocess_input\n",
        "from tensorflow.keras.preprocessing import image\n",
        "import numpy as np\n",
        "import pandas\n",
        "from sklearn import (\n",
        "    decomposition,\n",
        "    manifold,\n",
        "    pipeline,\n",
        ")\n",
        "\n"
      ],
      "execution_count": 3,
      "outputs": []
    },
    {
      "cell_type": "code",
      "source": [
        "from google.colab import drive\n",
        "drive.mount('/content/drive')"
      ],
      "metadata": {
        "colab": {
          "base_uri": "https://localhost:8080/"
        },
        "id": "o4m0J0jdxIbp",
        "outputId": "ec389ecb-50d1-4977-b806-f83f567f1d89"
      },
      "execution_count": 4,
      "outputs": [
        {
          "output_type": "stream",
          "name": "stdout",
          "text": [
            "Drive already mounted at /content/drive; to attempt to forcibly remount, call drive.mount(\"/content/drive\", force_remount=True).\n"
          ]
        }
      ]
    },
    {
      "cell_type": "code",
      "source": [
        "! gdown --id 1AqYSHkKGi3lUoxGTpTS3yQ2AVOXoj2i9\n",
        "import zipfile\n",
        "local_zip = '/content/gfp.zip'\n",
        "zip_ref = zipfile.ZipFile(local_zip, 'r')\n",
        "zip_ref.extractall()\n",
        "zip_ref.close()"
      ],
      "metadata": {
        "colab": {
          "base_uri": "https://localhost:8080/"
        },
        "id": "Sc0f7wSVxE5n",
        "outputId": "3ba66704-f8cd-4aca-a74f-62c260fca960"
      },
      "execution_count": 5,
      "outputs": [
        {
          "output_type": "stream",
          "name": "stdout",
          "text": [
            "/usr/local/lib/python3.7/dist-packages/gdown/cli.py:131: FutureWarning: Option `--id` was deprecated in version 4.3.1 and will be removed in 5.0. You don't need to pass it anymore to use a file ID.\n",
            "  category=FutureWarning,\n",
            "Downloading...\n",
            "From: https://drive.google.com/uc?id=1AqYSHkKGi3lUoxGTpTS3yQ2AVOXoj2i9\n",
            "To: /content/gfp.zip\n",
            "100% 340M/340M [00:02<00:00, 147MB/s]\n"
          ]
        }
      ]
    },
    {
      "metadata": {
        "id": "M0-TqVCmKANO"
      },
      "cell_type": "markdown",
      "source": [
        "FEATURE EXTRACTION "
      ]
    },
    {
      "metadata": {
        "id": "0zW8vRQ_BLhB"
      },
      "cell_type": "code",
      "source": [
        "def get_feature(model, metadata):\n",
        "    print('{}'.format(metadata['id']))\n",
        "    try:\n",
        "        img_path = os.path.join('gfp', metadata['gfp'])\n",
        "        print(img_path)\n",
        "        if os.path.isfile(img_path):\n",
        "            #print('is file: {}'.format(img_path))\n",
        "            try:\n",
        "                # load image setting the image size to 224 x 224\n",
        "                img = image.load_img(img_path, target_size=(224, 224))\n",
        "                # convert image to numpy array\n",
        "                x = image.img_to_array(img)\n",
        "                # the image is now in an array of shape (3, 224, 224)\n",
        "                # but we need to expand it to (1, 2, 224, 224) as Keras is expecting a list of images\n",
        "                x = np.expand_dims(x, axis=0)\n",
        "                x = preprocess_input(x)\n",
        "                \n",
        "                # extract the features\n",
        "                features = model.predict(x)[0]\n",
        "                # convert from Numpy to a list of values\n",
        "                features_arr = np.char.mod('%f', features)\n",
        "\n",
        "                return {\"id\": metadata['id'], \"features\": ','.join(features_arr)}\n",
        "            except Exception as ex:\n",
        "                # skip all exceptions for now\n",
        "                print(ex)\n",
        "                pass\n",
        "    except Exception as ex:\n",
        "        # skip all exceptions for now\n",
        "        print(ex)\n",
        "        pass\n",
        "    return None\n"
      ],
      "execution_count": 6,
      "outputs": []
    },
    {
      "metadata": {
        "id": "UA2hRS0uGTae"
      },
      "cell_type": "code",
      "source": [
        "def create_features(filename,features):\n",
        "  with open(filename, 'w') as output:\n",
        "    w = csv.DictWriter(output, fieldnames=['id', 'features'], delimiter='\\t', lineterminator='\\n')\n",
        "    w.writeheader()\n",
        "    w.writerows(features)\n"
      ],
      "execution_count": 7,
      "outputs": []
    },
    {
      "metadata": {
        "id": "-ExvV56QBLhK"
      },
      "cell_type": "code",
      "source": [
        "data = pandas.read_csv(\"data.csv\")\n",
        "file = \"features_\"\n",
        "\n",
        "# VGG-16\n",
        "model_vgg16 = applications.vgg16.VGG16(weights='imagenet', include_top=False, pooling='avg')\n",
        "features_vgg16 = map(functools.partial(get_feature,model_vgg16), data.T.to_dict().values())\n",
        "# remove empty entries\n",
        "features_vgg16 = filter(None, features_vgg16)\n",
        "create_features(file+\"vgg16.tsv\",features_vgg16)\n",
        "\n",
        "\n",
        "\n"
      ],
      "execution_count": null,
      "outputs": []
    },
    {
      "metadata": {
        "id": "DiEbJ2JyKKXa"
      },
      "cell_type": "markdown",
      "source": [
        "APPLYING TSNE/PCA/PCA-TSNE"
      ]
    },
    {
      "metadata": {
        "id": "ibZAT4CKBLhT"
      },
      "cell_type": "code",
      "source": [
        "def process(data):\n",
        "    # split the comma delimited string back into a list of values\n",
        "    transformed = [d.split(',') for d in data['features']]\n",
        "    # convert image data to float64 matrix. float64 is need for bh_sne\n",
        "    x_data = np.asarray(transformed).astype('float64')\n",
        "    x_data = x_data.reshape((x_data.shape[0], -1))\n",
        "  \n",
        "    model = decomposition.PCA(n_components=20)\n",
        "\n",
        "    vis_data = model.fit_transform(x_data)\n",
        "\n",
        "    # convert the results into a list of dict\n",
        "    results = []\n",
        "    for i in range(0, len(data)):\n",
        "        results.append({\n",
        "            'id': data['id'][i],\n",
        "            'x': vis_data[i][0],\n",
        "            'y': vis_data[i][1]\n",
        "        })\n",
        "    return results,model\n"
      ],
      "execution_count": 32,
      "outputs": []
    },
    {
      "metadata": {
        "id": "XNj8PpOiBLhc"
      },
      "cell_type": "code",
      "source": [
        "def write_tsv(results, output_tsv):\n",
        "    # write to a tab delimited file\n",
        "    with open(output_tsv, 'w') as output:\n",
        "        w = csv.DictWriter(\n",
        "            output, fieldnames=['id', 'x', 'y'], delimiter='\\t',\n",
        "            lineterminator='\\n')\n",
        "        w.writeheader()\n",
        "        w.writerows(results)\n"
      ],
      "execution_count": 33,
      "outputs": []
    },
    {
      "metadata": {
        "id": "s__gx-PCBLhj"
      },
      "cell_type": "code",
      "source": [
        "file = \"features_\"\n",
        "\n",
        "# VGG-16\n",
        "data_vgg16 = pandas.read_csv(file+\"vgg16.tsv\", sep='\\t')\n",
        "results_vgg16,pca_model = process(data_vgg16)\n",
        "write_tsv(results_vgg16, file+\"vgg16_tsne.tsv\")\n"
      ],
      "execution_count": 35,
      "outputs": []
    },
    {
      "metadata": {
        "id": "ojEiyeNOBLhp"
      },
      "cell_type": "code",
      "source": [
        "x = []\n",
        "y = []\n",
        "# VGG-16\n",
        "x_vgg16 = []\n",
        "y_vgg16 = []\n",
        "for i in results_vgg16:\n",
        "    x_vgg16.append(i['x'])\n",
        "    y_vgg16.append(i['y'])\n",
        "x.append(x_vgg16)\n",
        "y.append(y_vgg16)\n",
        "   "
      ],
      "execution_count": 36,
      "outputs": []
    },
    {
      "metadata": {
        "id": "jHa5xUb6BLht",
        "outputId": "bd1846e1-b4a3-46ef-95ad-9738f4d28492",
        "colab": {
          "base_uri": "https://localhost:8080/",
          "height": 164
        }
      },
      "cell_type": "code",
      "source": [
        "plt.subplot(2,3,1)\n",
        "plt.scatter(x[0], y[0], label= \"stars\", color= \"green\", marker= \"*\", s=30) \n",
        "\n",
        "\n",
        "#plt.scatter(x[2], y[2], label= \"stars\", color= \"green\",  \n",
        "            #marker= \"*\", s=30) "
      ],
      "execution_count": 37,
      "outputs": [
        {
          "output_type": "execute_result",
          "data": {
            "text/plain": [
              "<matplotlib.collections.PathCollection at 0x7f8763f57b10>"
            ]
          },
          "metadata": {},
          "execution_count": 37
        },
        {
          "output_type": "display_data",
          "data": {
            "text/plain": [
              "<Figure size 432x288 with 1 Axes>"
            ],
            "image/png": "[encoded data removed]"
          },
          "metadata": {
            "needs_background": "light"
          }
        }
      ]
    },
    {
      "cell_type": "code",
      "source": [
        "from sklearn.cluster import KMeans\n",
        "\n",
        "def kmean_elbow(df):\n",
        "  distortions = []\n",
        "  K = range(1,10)\n",
        "  for k in K:\n",
        "      kmeanModel = KMeans(n_clusters=k)\n",
        "      kmeanModel.fit(df)\n",
        "      distortions.append(kmeanModel.inertia_)\n",
        "\n",
        "  plt.figure(figsize=(16,8))\n",
        "  plt.plot(K, distortions, 'bx-')\n",
        "  plt.xlabel('k')\n",
        "  plt.ylabel('Distortion')\n",
        "  plt.title('The Elbow Method showing the optimal k')\n",
        "  plt.show()"
      ],
      "metadata": {
        "id": "IOMvbP5580Pm"
      },
      "execution_count": 38,
      "outputs": []
    },
    {
      "metadata": {
        "id": "0lq6Rb7RXScx"
      },
      "cell_type": "markdown",
      "source": [
        "APPLYING KMEANS"
      ]
    },
    {
      "cell_type": "code",
      "source": [
        "from sklearn.cluster import KMeans\n",
        "\n",
        "# VGG-16\n",
        "f_vgg16 = [[d['x'],d['y'] ] for d in results_vgg16]\n",
        "print(f_vgg16)\n",
        "kmean_elbow(f_vgg16)\n",
        "vgg16 = KMeans(n_clusters=3,random_state=0).fit(f_vgg16)\n",
        "print(vgg16.labels_)"
      ],
      "metadata": {
        "colab": {
          "base_uri": "https://localhost:8080/",
          "height": 602
        },
        "id": "zoNKNL_5oHMJ",
        "outputId": "66011886-62fa-4c80-a9c3-683e6cdc5c41"
      },
      "execution_count": 39,
      "outputs": [
        {
          "output_type": "stream",
          "name": "stdout",
          "text": [
            "[[6.4782964359386845, -1.169493099026024], [3.914461597402453, 2.4999332711359132], [7.325839925876417, -4.692371932717999], [12.866930765948107, -5.48008658718011], [6.999054886260547, 6.8701834762251295], [9.424705948508649, 5.2403326952522], [-3.8503434351471157, 3.0065908764949807], [11.89979369479978, 1.6639711245642002], [5.342686536959217, -0.3843359697735219], [9.246842535600265, -2.7278679735594267], [22.51733741060049, 11.668152509681354], [11.36760448778988, -1.4559460323728228], [21.934551189707552, -2.106299430409185], [15.624045385819363, 3.582740684399722], [38.88296909563136, -1.8169036084775976], [15.698427910807762, 3.2742327693619626], [37.972697332377926, -2.9699457453963123], [6.741313400589226, -4.731634173481206], [0.2800895301785061, 5.770100183756453], [4.569766922671036, -8.09023518587153], [15.757399742833984, -6.722209127203153], [16.193612795646846, -5.144814079436666], [-4.328685610945723, -1.223771142674278], [-6.05461219601031, -1.1068445128593107], [21.33789843748324, 9.43655343008119], [-18.309441251092377, 7.284949017289941], [13.87425908547626, 5.977317466369404], [-20.83151929787255, 4.770342952504109], [-0.9466979228841519, -0.5648821155878595], [-21.426074515649592, 4.120706176978114], [8.683936233240159, 0.7701397667540587], [13.453173125487826, 10.421514151701363], [6.32324878639118, 1.5643743045027958], [-5.957418555634572, 6.2128928485165025], [10.301964118505436, -0.6289533204248137], [-14.701525944545173, 9.964749121012936], [24.116183058311183, 1.5883927144480618], [-4.179227730226419, 12.889986645538551], [30.76012233449326, 6.615140109840741], [4.959654847915442, 18.118468400723707], [11.251711265464554, 1.262858678245629], [-7.449255597737716, 12.322854305127946], [31.97835585953928, 0.7376497325783912], [-1.8740755513149054, 10.882833431659451], [23.25633241713443, 1.171393640310497], [12.236366116557008, 0.24728737436388087], [17.472446958742115, 0.6366247339576913], [22.480376617344415, 7.880389341622237], [10.501661630608602, 5.128559183451528], [3.688362919085584, 4.7180283491374615], [27.68303064604229, 1.4016838945867494], [37.22635446997203, 3.3368021059470645], [31.676238890321898, -4.154026440866986], [27.581687371744078, 3.8522873209142134], [33.204855886094684, 0.8375233393206899], [50.62320815316964, 12.634104626240928], [25.872263924746182, -20.50235924094327], [15.358952182735553, -20.273771990790383], [10.044617119154132, -20.085524162212536], [3.2875687006965553, -16.89751905651558], [6.844174592988656, -15.184192143940578], [12.473696123701256, -17.840131077654608], [7.248990154224782, -16.665685492038694], [-2.433197312358074, -10.587606033758098], [-8.36661499268014, -9.930827799812391], [-14.966614338918939, -3.8564218021187577], [13.281747509837222, -17.95837130813494], [-6.471518510807656, -9.516457614847212], [-22.66658568428525, 1.2012666370638134], [-17.07402082818221, 2.06394737194613], [-23.10077851450576, 1.216059577339644], [-18.22708071064118, 1.6703429992440346], [-22.822177890455265, 1.8016601950601754], [-16.847776003938215, 2.148387151862602], [-21.14195492279622, 1.2704346668640714], [-16.151917024754624, 1.371671352453938], [-23.067254568700257, 1.3973773656164654], [-21.352731193546628, 1.8072764587717225], [-7.293834163028904, -3.976214410061946], [0.9121105389430663, -6.323994429957749], [-3.337252169099769, -8.158480600961608], [-10.594280175446103, -6.372777123586937], [-10.976987288617744, -4.9177542592269115], [-2.410826440186629, -2.360196895766092], [-6.715993981984879, -2.669446233584348], [-3.9876653878686943, -5.299993002923546], [-5.23217879224822, -6.0084104713227005], [14.53470959232799, 2.7755669862920707], [31.750980046832016, 6.191561396539045], [-12.833391142698149, -0.8588984121664767], [-2.095787495350547, 1.0315002190932525], [32.9799457990913, -6.650420004716984], [19.18735671406625, 9.323288908210538], [28.16236588457126, 9.884842351813033], [-14.151069305782773, -4.133413824370484], [3.0328699029604302, 6.36623855736646], [-5.340908318110953, -2.69359270017491], [6.222656892184098, -15.338161556325014], [-20.08141589251545, -0.3413540524541488], [-20.4750203005418, 0.7394685617086809], [-20.926036861053845, 0.5561679091791502], [-17.9685948049161, -1.789224673726161], [-17.49604437427294, -0.1418090271191552], [-18.208436751731142, -1.0838137792891336], [-20.505576972690022, 0.521119471896889], [-22.660788669825454, 1.7599006600834903], [-21.17536446407606, 0.3003017899142856], [-17.281258505809912, -2.1157285257517344], [-21.30862942339101, 0.8081999712176113], [-21.32626066148193, 1.2243020455325604], [-6.004665038967919, -8.370884979717461], [3.883478911291207, -14.647741793606542], [6.698317746752038, -11.82735141783711], [-0.11628839900576485, -11.46894618082279], [3.3798861780515224, -4.403260964681651], [-10.17754127964879, -6.592203170571299], [-7.9830137342821, -3.7746091879480512], [6.461547098496028, -9.188940351495916], [-1.5773872377853537, -14.23977437228263], [-19.623733204982088, -0.7631931254921415], [-19.456715061282818, 0.2755699434490184], [-20.42546977379284, 0.03761137530590733], [-16.467329064745865, -2.4482744231675158], [-12.842943424981371, -5.286944481724534], [-16.76430785796746, -2.2007182706393795], [-18.96371234291019, -0.11112747999697187], [-22.186550817081965, 1.2035717146636842], [-18.85753509397578, -1.529455125663648], [-21.200797743974316, 0.3922865821031263], [-20.962051990498935, 0.9949403412192949], [-5.5939268296111315, -9.085480937376971], [-7.500174130631574, -5.421192766891541], [-21.170827116813676, 0.16427388461055148], [-4.80861390706535, -5.222671414564754], [30.273902729136594, 5.465308652447113], [-20.720765121416395, 1.1362831118185783], [-20.048536073564698, 0.01607343940309579], [-17.44504238290441, 0.3242811966050959], [-21.066826169952066, 0.862048551420488], [-22.030406660295032, 2.109536448114399], [10.721202294844696, 6.336609547527373], [14.665814255606415, 6.802397607495203], [-17.247505297415508, 1.1204126160212429], [-16.147095676195807, 1.0763243689711979], [-13.358882073810797, 2.451397006607901], [-15.916334200157424, -2.6729157594016373], [-14.949406092315767, -2.436467986912543], [6.34198239433761, 6.038475333346544], [26.330868764660796, 6.037208530915525], [-19.303389903894285, 1.1952346277316812], [-20.429822756141206, -0.21275945979803343], [-19.199079672342954, 0.8638554878643346], [10.205208796233745, 7.570553343739388], [19.970047605604243, 3.477994708885937], [-9.01462876533884, 15.627122757955513], [2.011883958327926, 15.746037597803733], [13.000153627135667, 7.863120006285695], [1.6559181668529175, 22.505673978936898], [-8.44103391542512, 16.521091823996258], [6.523724495697446, 5.550589686436659], [-0.8911530567916751, 20.28370048978822], [1.6723189874245898, 17.703340747995373], [12.29421986235615, 5.452265210824294], [-9.361229667932434, 11.946587870569903], [-18.046193490082977, 6.577726285513399], [13.684022992509147, -14.653465669276649], [14.821324351926416, -15.138899263618079], [9.826229264636986, -7.037291182637938], [22.723935827152275, -1.8537182369670084], [5.80407463470468, -12.194950534224935], [-15.375909503868346, 1.660445851125434], [-12.041391875844896, 1.5685543940362268], [2.572700971111321, 0.23789375596281873], [-10.236183302500976, -0.7702586037993138], [-10.560723587850525, 2.309863819991234], [-6.587122773589606, 4.456981123538236], [-11.546316879303182, 0.9935401058618563], [-1.145052464434813, -2.1955719721358515], [0.7961546410465788, -2.5606376374294433], [21.141465639264236, 9.169234980294426], [-2.7440448039655303, 0.5617653096333219], [16.92061986041285, 1.441804856991305], [0.3187556254692418, -1.7247605781493858], [-0.3710480487963719, -0.6245536531920132], [10.823339947081102, 4.669209942522838], [13.46344864623988, -0.23013321040266335]]\n"
          ]
        },
        {
          "output_type": "display_data",
          "data": {
            "text/plain": [
              "<Figure size 1152x576 with 1 Axes>"
            ],
            "image/png": "[encoded data removed]"
          },
          "metadata": {
            "needs_background": "light"
          }
        },
        {
          "output_type": "stream",
          "name": "stdout",
          "text": [
            "[0 0 0 0 0 0 0 0 0 0 2 0 2 2 2 2 2 0 0 0 0 0 0 1 2 1 0 1 0 1 0 2 0 1 0 1 2\n",
            " 1 2 0 0 1 2 0 2 0 2 2 0 0 2 2 2 2 2 2 2 0 0 0 0 0 0 0 1 1 0 0 1 1 1 1 1 1\n",
            " 1 1 1 1 1 0 0 1 1 0 1 0 0 0 2 1 0 2 2 2 1 0 0 0 1 1 1 1 1 1 1 1 1 1 1 1 0\n",
            " 0 0 0 0 1 1 0 0 1 1 1 1 1 1 1 1 1 1 1 0 1 1 0 2 1 1 1 1 1 0 2 1 1 1 1 1 0\n",
            " 2 1 1 1 0 2 1 0 0 0 1 0 0 0 0 1 1 0 0 0 2 0 1 1 0 1 1 1 1 0 0 2 0 2 0 0 0\n",
            " 0]\n"
          ]
        }
      ]
    },
    {
      "cell_type": "code",
      "source": [
        "import pickle\n",
        "pickle.dump(vgg16, open(\"vgg16.pkl\", \"wb\"))\n",
        "pickle.dump(pca_model, open(\"pca.pkl\", \"wb\"))\n"
      ],
      "metadata": {
        "id": "eUb6df8Eh6Yp"
      },
      "execution_count": 40,
      "outputs": []
    },
    {
      "cell_type": "code",
      "source": [
        "def process_test_image(img_path):\n",
        "      try:\n",
        "            # load image setting the image size to 224 x 224\n",
        "            img = image.load_img(img_path, target_size=(224, 224))\n",
        "            # convert image to numpy array\n",
        "            x = image.img_to_array(img)\n",
        "           \n",
        "            # the image is now in an array of shape (3, 224, 224)\n",
        "            # but we need to expand it to (1, 2, 224, 224) as Keras is expecting a list of images\n",
        "            x = np.expand_dims(x, axis=0)\n",
        "            x = preprocess_input(x)\n",
        "\n",
        "            \n",
        "            model_vgg16 = applications.vgg16.VGG16(weights='imagenet', include_top=False, pooling='avg')\n",
        "           \n",
        "            # extract the features\n",
        "            features = model_vgg16.predict(x)[0]\n",
        "            # convert from Numpy to a list of values\n",
        "            features_arr = np.char.mod('%f', features)\n",
        "            feature_list =  ','.join(features_arr)\n",
        "            transformed = feature_list.split(',')\n",
        "         \n",
        "            # convert image data to float64 matrix. float64 is need for bh_sne\n",
        "            x_data = np.asarray(transformed).astype('float64')\n",
        "            x_data = x_data.reshape((1,-1))\n",
        "            # perform t-SNE\n",
        "           \n",
        "            vis_data = pca_model.transform(x_data)\n",
        "\n",
        "\n",
        "            # convert the results into a list of dict\n",
        "            results = []\n",
        "            return vis_data[0][0], vis_data[0][1]\n",
        "      except Exception as ex:\n",
        "            # skip all exceptions for now\n",
        "            print(ex)\n",
        "            pass\n"
      ],
      "metadata": {
        "id": "g57yGcQPjbbr"
      },
      "execution_count": 41,
      "outputs": []
    },
    {
      "cell_type": "code",
      "source": [
        "# load the model\n",
        "model_vgg16 = pickle.load(open(\"vgg16.pkl\", \"rb\"))\n",
        "pca_model = pickle.load(open(\"pca.pkl\", \"rb\"))"
      ],
      "metadata": {
        "id": "TuxRXpUOiw2M"
      },
      "execution_count": 42,
      "outputs": []
    },
    {
      "cell_type": "code",
      "source": [
        "x1,y1 = process_test_image('test.png')\n",
        "print([x1,y1])\n",
        "\n",
        "print(model_vgg16.predict([[x1,y1]]))"
      ],
      "metadata": {
        "colab": {
          "base_uri": "https://localhost:8080/"
        },
        "id": "BqXYc6M_i2ZY",
        "outputId": "c489c646-1874-4ff0-e3ab-e4cad5c40828"
      },
      "execution_count": 62,
      "outputs": [
        {
          "output_type": "stream",
          "name": "stdout",
          "text": [
            "1/1 [==============================] - 1s 688ms/step\n",
            "[0.7961546410465479, -2.5606376374294455]\n",
            "[0]\n"
          ]
        }
      ]
    }
  ]
}