{
  "cells": [
    {
      "cell_type": "markdown",
      "metadata": {
        "id": "A7Hu0KQHF-e9"
      },
      "source": [
        "# **<center>POST-Natural Prototypes<center>**\n",
        "\n",
        "---\n"
      ]
    },
    {
      "cell_type": "markdown",
      "metadata": {
        "id": "zTfrhUGCGccg"
      },
      "source": [
        "\n",
        "\n",
        "> **Aim** - In this project we intend to establish meaningful dialogue between plant and human beings, that is contextualized to how plants and humans will have to adapt to in order to survive. The central objective is to study plant images, and based on its results produce meaningful response that helps plant to grow. The response involves changes in the environmental stresses that includes temperature,sound, light, parasites, and so on. In the initial phase, we will be concentrating on Sound parameter.  \n",
        "\n",
        "> Our dataset includes 3 types of images – Bioluminescence, fluorescence, and Thermal.\n",
        "\n",
        "> In this notebook, we will examine Green fluorescent protein(GFP) which is one of the Fluorescence plants (glows in dark).  \n",
        "\n",
        "\n",
        "\n"
      ]
    },
    {
      "cell_type": "markdown",
      "metadata": {
        "id": "8xHQ_k34CceA"
      },
      "source": [
        "## Import libraries"
      ]
    },
    {
      "cell_type": "code",
      "execution_count": 1,
      "metadata": {
        "colab": {
          "base_uri": "https://localhost:8080/"
        },
        "id": "ZCNt7MwDuUsU",
        "outputId": "4e1c9256-43da-40c5-ea53-6f7581857424"
      },
      "outputs": [
        {
          "name": "stdout",
          "output_type": "stream",
          "text": [
            "Found existing installation: tensorflow 2.12.0\n",
            "Uninstalling tensorflow-2.12.0:\n",
            "  Would remove:\n",
            "    /usr/local/bin/estimator_ckpt_converter\n",
            "    /usr/local/bin/import_pb_to_tensorboard\n",
            "    /usr/local/bin/saved_model_cli\n",
            "    /usr/local/bin/tensorboard\n",
            "    /usr/local/bin/tf_upgrade_v2\n",
            "    /usr/local/bin/tflite_convert\n",
            "    /usr/local/bin/toco\n",
            "    /usr/local/bin/toco_from_protos\n",
            "    /usr/local/lib/python3.10/dist-packages/tensorflow-2.12.0.dist-info/*\n",
            "    /usr/local/lib/python3.10/dist-packages/tensorflow/*\n",
            "Proceed (Y/n)? y\n",
            "  Successfully uninstalled tensorflow-2.12.0\n",
            "Looking in indexes: https://pypi.org/simple, https://us-python.pkg.dev/colab-wheels/public/simple/\n",
            "Collecting tensorflow==2.9.2\n",
            "  Downloading tensorflow-2.9.2-cp310-cp310-manylinux_2_17_x86_64.manylinux2014_x86_64.whl (511.8 MB)\n",
            "\u001b[2K     \u001b[90m━━━━━━━━━━━━━━━━━━━━━━━━━━━━━━━━━━━━━━━\u001b[0m \u001b[32m511.8/511.8 MB\u001b[0m \u001b[31m3.0 MB/s\u001b[0m eta \u001b[36m0:00:00\u001b[0m\n",
            "\u001b[?25hRequirement already satisfied: astunparse>=1.6.0 in /usr/local/lib/python3.10/dist-packages (from tensorflow==2.9.2) (1.6.3)\n",
            "Requirement already satisfied: wrapt>=1.11.0 in /usr/local/lib/python3.10/dist-packages (from tensorflow==2.9.2) (1.14.1)\n",
            "Requirement already satisfied: packaging in /usr/local/lib/python3.10/dist-packages (from tensorflow==2.9.2) (23.1)\n",
            "Collecting keras-preprocessing>=1.1.1\n",
            "  Downloading Keras_Preprocessing-1.1.2-py2.py3-none-any.whl (42 kB)\n",
            "\u001b[2K     \u001b[90m━━━━━━━━━━━━━━━━━━━━━━━━━━━━━━━━━━━━━━━━\u001b[0m \u001b[32m42.6/42.6 kB\u001b[0m \u001b[31m4.2 MB/s\u001b[0m eta \u001b[36m0:00:00\u001b[0m\n",
            "\u001b[?25hRequirement already satisfied: h5py>=2.9.0 in /usr/local/lib/python3.10/dist-packages (from tensorflow==2.9.2) (3.8.0)\n",
            "Requirement already satisfied: numpy>=1.20 in /usr/local/lib/python3.10/dist-packages (from tensorflow==2.9.2) (1.22.4)\n",
            "Requirement already satisfied: libclang>=13.0.0 in /usr/local/lib/python3.10/dist-packages (from tensorflow==2.9.2) (16.0.0)\n",
            "Collecting keras<2.10.0,>=2.9.0rc0\n",
            "  Downloading keras-2.9.0-py2.py3-none-any.whl (1.6 MB)\n",
            "\u001b[2K     \u001b[90m━━━━━━━━━━━━━━━━━━━━━━━━━━━━━━━━━━━━━━━━\u001b[0m \u001b[32m1.6/1.6 MB\u001b[0m \u001b[31m68.5 MB/s\u001b[0m eta \u001b[36m0:00:00\u001b[0m\n",
            "\u001b[?25hRequirement already satisfied: setuptools in /usr/local/lib/python3.10/dist-packages (from tensorflow==2.9.2) (67.7.2)\n",
            "Requirement already satisfied: tensorflow-io-gcs-filesystem>=0.23.1 in /usr/local/lib/python3.10/dist-packages (from tensorflow==2.9.2) (0.32.0)\n",
            "Collecting tensorflow-estimator<2.10.0,>=2.9.0rc0\n",
            "  Downloading tensorflow_estimator-2.9.0-py2.py3-none-any.whl (438 kB)\n",
            "\u001b[2K     \u001b[90m━━━━━━━━━━━━━━━━━━━━━━━━━━━━━━━━━━━━━━\u001b[0m \u001b[32m438.7/438.7 kB\u001b[0m \u001b[31m35.6 MB/s\u001b[0m eta \u001b[36m0:00:00\u001b[0m\n",
            "\u001b[?25hRequirement already satisfied: gast<=0.4.0,>=0.2.1 in /usr/local/lib/python3.10/dist-packages (from tensorflow==2.9.2) (0.4.0)\n",
            "Requirement already satisfied: opt-einsum>=2.3.2 in /usr/local/lib/python3.10/dist-packages (from tensorflow==2.9.2) (3.3.0)\n",
            "Collecting protobuf<3.20,>=3.9.2\n",
            "  Downloading protobuf-3.19.6-cp310-cp310-manylinux_2_17_x86_64.manylinux2014_x86_64.whl (1.1 MB)\n",
            "\u001b[2K     \u001b[90m━━━━━━━━━━━━━━━━━━━━━━━━━━━━━━━━━━━━━━━━\u001b[0m \u001b[32m1.1/1.1 MB\u001b[0m \u001b[31m56.9 MB/s\u001b[0m eta \u001b[36m0:00:00\u001b[0m\n",
            "\u001b[?25hRequirement already satisfied: absl-py>=1.0.0 in /usr/local/lib/python3.10/dist-packages (from tensorflow==2.9.2) (1.4.0)\n",
            "Requirement already satisfied: grpcio<2.0,>=1.24.3 in /usr/local/lib/python3.10/dist-packages (from tensorflow==2.9.2) (1.54.0)\n",
            "Collecting tensorboard<2.10,>=2.9\n",
            "  Downloading tensorboard-2.9.1-py3-none-any.whl (5.8 MB)\n",
            "\u001b[2K     \u001b[90m━━━━━━━━━━━━━━━━━━━━━━━━━━━━━━━━━━━━━━━━\u001b[0m \u001b[32m5.8/5.8 MB\u001b[0m \u001b[31m92.0 MB/s\u001b[0m eta \u001b[36m0:00:00\u001b[0m\n",
            "\u001b[?25hCollecting flatbuffers<2,>=1.12\n",
            "  Downloading flatbuffers-1.12-py2.py3-none-any.whl (15 kB)\n",
            "Requirement already satisfied: google-pasta>=0.1.1 in /usr/local/lib/python3.10/dist-packages (from tensorflow==2.9.2) (0.2.0)\n",
            "Requirement already satisfied: termcolor>=1.1.0 in /usr/local/lib/python3.10/dist-packages (from tensorflow==2.9.2) (2.3.0)\n",
            "Requirement already satisfied: typing-extensions>=3.6.6 in /usr/local/lib/python3.10/dist-packages (from tensorflow==2.9.2) (4.5.0)\n",
            "Requirement already satisfied: six>=1.12.0 in /usr/local/lib/python3.10/dist-packages (from tensorflow==2.9.2) (1.16.0)\n",
            "Requirement already satisfied: wheel<1.0,>=0.23.0 in /usr/local/lib/python3.10/dist-packages (from astunparse>=1.6.0->tensorflow==2.9.2) (0.40.0)\n",
            "Requirement already satisfied: google-auth<3,>=1.6.3 in /usr/local/lib/python3.10/dist-packages (from tensorboard<2.10,>=2.9->tensorflow==2.9.2) (2.17.3)\n",
            "Requirement already satisfied: werkzeug>=1.0.1 in /usr/local/lib/python3.10/dist-packages (from tensorboard<2.10,>=2.9->tensorflow==2.9.2) (2.3.0)\n",
            "Requirement already satisfied: markdown>=2.6.8 in /usr/local/lib/python3.10/dist-packages (from tensorboard<2.10,>=2.9->tensorflow==2.9.2) (3.4.3)\n",
            "Collecting google-auth-oauthlib<0.5,>=0.4.1\n",
            "  Downloading google_auth_oauthlib-0.4.6-py2.py3-none-any.whl (18 kB)\n",
            "Collecting tensorboard-data-server<0.7.0,>=0.6.0\n",
            "  Downloading tensorboard_data_server-0.6.1-py3-none-manylinux2010_x86_64.whl (4.9 MB)\n",
            "\u001b[2K     \u001b[90m━━━━━━━━━━━━━━━━━━━━━━━━━━━━━━━━━━━━━━━━\u001b[0m \u001b[32m4.9/4.9 MB\u001b[0m \u001b[31m80.5 MB/s\u001b[0m eta \u001b[36m0:00:00\u001b[0m\n",
            "\u001b[?25hRequirement already satisfied: tensorboard-plugin-wit>=1.6.0 in /usr/local/lib/python3.10/dist-packages (from tensorboard<2.10,>=2.9->tensorflow==2.9.2) (1.8.1)\n",
            "Requirement already satisfied: requests<3,>=2.21.0 in /usr/local/lib/python3.10/dist-packages (from tensorboard<2.10,>=2.9->tensorflow==2.9.2) (2.27.1)\n",
            "Requirement already satisfied: cachetools<6.0,>=2.0.0 in /usr/local/lib/python3.10/dist-packages (from google-auth<3,>=1.6.3->tensorboard<2.10,>=2.9->tensorflow==2.9.2) (5.3.0)\n",
            "Requirement already satisfied: pyasn1-modules>=0.2.1 in /usr/local/lib/python3.10/dist-packages (from google-auth<3,>=1.6.3->tensorboard<2.10,>=2.9->tensorflow==2.9.2) (0.3.0)\n",
            "Requirement already satisfied: rsa<5,>=3.1.4 in /usr/local/lib/python3.10/dist-packages (from google-auth<3,>=1.6.3->tensorboard<2.10,>=2.9->tensorflow==2.9.2) (4.9)\n",
            "Requirement already satisfied: requests-oauthlib>=0.7.0 in /usr/local/lib/python3.10/dist-packages (from google-auth-oauthlib<0.5,>=0.4.1->tensorboard<2.10,>=2.9->tensorflow==2.9.2) (1.3.1)\n",
            "Requirement already satisfied: urllib3<1.27,>=1.21.1 in /usr/local/lib/python3.10/dist-packages (from requests<3,>=2.21.0->tensorboard<2.10,>=2.9->tensorflow==2.9.2) (1.26.15)\n",
            "Requirement already satisfied: certifi>=2017.4.17 in /usr/local/lib/python3.10/dist-packages (from requests<3,>=2.21.0->tensorboard<2.10,>=2.9->tensorflow==2.9.2) (2022.12.7)\n",
            "Requirement already satisfied: charset-normalizer~=2.0.0 in /usr/local/lib/python3.10/dist-packages (from requests<3,>=2.21.0->tensorboard<2.10,>=2.9->tensorflow==2.9.2) (2.0.12)\n",
            "Requirement already satisfied: idna<4,>=2.5 in /usr/local/lib/python3.10/dist-packages (from requests<3,>=2.21.0->tensorboard<2.10,>=2.9->tensorflow==2.9.2) (3.4)\n",
            "Requirement already satisfied: MarkupSafe>=2.1.1 in /usr/local/lib/python3.10/dist-packages (from werkzeug>=1.0.1->tensorboard<2.10,>=2.9->tensorflow==2.9.2) (2.1.2)\n",
            "Requirement already satisfied: pyasn1<0.6.0,>=0.4.6 in /usr/local/lib/python3.10/dist-packages (from pyasn1-modules>=0.2.1->google-auth<3,>=1.6.3->tensorboard<2.10,>=2.9->tensorflow==2.9.2) (0.5.0)\n",
            "Requirement already satisfied: oauthlib>=3.0.0 in /usr/local/lib/python3.10/dist-packages (from requests-oauthlib>=0.7.0->google-auth-oauthlib<0.5,>=0.4.1->tensorboard<2.10,>=2.9->tensorflow==2.9.2) (3.2.2)\n",
            "Installing collected packages: keras, flatbuffers, tensorflow-estimator, tensorboard-data-server, protobuf, keras-preprocessing, google-auth-oauthlib, tensorboard, tensorflow\n",
            "  Attempting uninstall: keras\n",
            "    Found existing installation: keras 2.12.0\n",
            "    Uninstalling keras-2.12.0:\n",
            "      Successfully uninstalled keras-2.12.0\n",
            "  Attempting uninstall: flatbuffers\n",
            "    Found existing installation: flatbuffers 23.3.3\n",
            "    Uninstalling flatbuffers-23.3.3:\n",
            "      Successfully uninstalled flatbuffers-23.3.3\n",
            "  Attempting uninstall: tensorflow-estimator\n",
            "    Found existing installation: tensorflow-estimator 2.12.0\n",
            "    Uninstalling tensorflow-estimator-2.12.0:\n",
            "      Successfully uninstalled tensorflow-estimator-2.12.0\n",
            "  Attempting uninstall: tensorboard-data-server\n",
            "    Found existing installation: tensorboard-data-server 0.7.0\n",
            "    Uninstalling tensorboard-data-server-0.7.0:\n",
            "      Successfully uninstalled tensorboard-data-server-0.7.0\n",
            "  Attempting uninstall: protobuf\n",
            "    Found existing installation: protobuf 3.20.3\n",
            "    Uninstalling protobuf-3.20.3:\n",
            "      Successfully uninstalled protobuf-3.20.3\n",
            "  Attempting uninstall: google-auth-oauthlib\n",
            "    Found existing installation: google-auth-oauthlib 1.0.0\n",
            "    Uninstalling google-auth-oauthlib-1.0.0:\n",
            "      Successfully uninstalled google-auth-oauthlib-1.0.0\n",
            "  Attempting uninstall: tensorboard\n",
            "    Found existing installation: tensorboard 2.12.2\n",
            "    Uninstalling tensorboard-2.12.2:\n",
            "      Successfully uninstalled tensorboard-2.12.2\n",
            "\u001b[31mERROR: pip's dependency resolver does not currently take into account all the packages that are installed. This behaviour is the source of the following dependency conflicts.\n",
            "tensorflow-metadata 1.13.1 requires protobuf<5,>=3.20.3, but you have protobuf 3.19.6 which is incompatible.\u001b[0m\u001b[31m\n",
            "\u001b[0mSuccessfully installed flatbuffers-1.12 google-auth-oauthlib-0.4.6 keras-2.9.0 keras-preprocessing-1.1.2 protobuf-3.19.6 tensorboard-2.9.1 tensorboard-data-server-0.6.1 tensorflow-2.9.2 tensorflow-estimator-2.9.0\n"
          ]
        }
      ],
      "source": [
        "!pip uninstall tensorflow\n",
        "!pip install tensorflow==2.9.2"
      ]
    },
    {
      "cell_type": "code",
      "execution_count": 2,
      "metadata": {
        "id": "U3AxWwW8BLgs"
      },
      "outputs": [],
      "source": [
        "import argparse\n",
        "import csv\n",
        "import os\n",
        "import sys\n",
        "import matplotlib\n",
        "import matplotlib.pyplot as plt\n",
        "import functools\n",
        "import tensorflow as tf\n",
        "from tensorflow.keras.applications.resnet50 import ResNet50\n",
        "from keras import applications\n",
        "from tensorflow.keras.applications.resnet50 import preprocess_input\n",
        "from tensorflow.keras.preprocessing import image\n",
        "from sklearn import preprocessing\n",
        "import numpy as np\n",
        "from sklearn import metrics\n",
        "import pandas\n",
        "from sklearn import (\n",
        "    decomposition,\n",
        "    manifold,\n",
        "    pipeline,\n",
        ")\n",
        "\n",
        "plt.style.use('ggplot')\n",
        "import seaborn as sns\n",
        "import warnings\n",
        "warnings.filterwarnings(\"ignore\")\n",
        "\n",
        "np.random.seed(53)\n",
        "tf.keras.utils.set_random_seed(53)"
      ]
    },
    {
      "cell_type": "markdown",
      "metadata": {
        "id": "PUak1-PcCrCW"
      },
      "source": [
        "## Connecting to google drive and extracting GFP data folder"
      ]
    },
    {
      "cell_type": "code",
      "execution_count": 3,
      "metadata": {
        "colab": {
          "base_uri": "https://localhost:8080/"
        },
        "id": "Sc0f7wSVxE5n",
        "outputId": "9f6eae70-4805-4500-da6c-79950f2bef1b"
      },
      "outputs": [
        {
          "name": "stdout",
          "output_type": "stream",
          "text": [
            "Mounted at /content/drive/\n"
          ]
        }
      ],
      "source": [
        "  import zipfile\n",
        "  from google.colab import drive\n",
        "\n",
        "  drive.mount('/content/drive/')\n",
        "\n",
        "  zip_ref = zipfile.ZipFile(\"/content/drive/MyDrive/gfp.zip\", 'r')\n",
        "  zip_ref.extractall(\"/content\")\n",
        "  zip_ref.close()"
      ]
    },
    {
      "cell_type": "markdown",
      "metadata": {
        "id": "1zhZqbZZC47X"
      },
      "source": [
        "## Data exploration "
      ]
    },
    {
      "cell_type": "markdown",
      "metadata": {
        "id": "9xSbnySIFBBd"
      },
      "source": [
        "Read a csv file, which is the list of all gfp images names present in the trainset. It consist of 2 columns named as 'id' and 'gfp'. The column 'id' is the serial number and the column 'gfp' is the image file name.  "
      ]
    },
    {
      "cell_type": "code",
      "execution_count": 4,
      "metadata": {
        "id": "bHkXdwnBCMaZ"
      },
      "outputs": [],
      "source": [
        "data = pandas.read_csv(\"data.csv\")"
      ]
    },
    {
      "cell_type": "code",
      "execution_count": 5,
      "metadata": {
        "colab": {
          "base_uri": "https://localhost:8080/"
        },
        "id": "1BYy02q3CMgO",
        "outputId": "051dadef-4ef4-48d2-add8-5bf39bf4346b"
      },
      "outputs": [
        {
          "name": "stdout",
          "output_type": "stream",
          "text": [
            "Total images in trainset - 186\n",
            "columns in data.csv file - Index(['id', 'gfp'], dtype='object')\n"
          ]
        }
      ],
      "source": [
        "print(\"Total images in trainset -\",len(data))\n",
        "\n",
        "print(\"columns in data.csv file -\",data.columns)"
      ]
    },
    {
      "cell_type": "markdown",
      "metadata": {
        "id": "M0-TqVCmKANO"
      },
      "source": [
        "FEATURE EXTRACTION "
      ]
    },
    {
      "cell_type": "markdown",
      "metadata": {
        "id": "TvdBMxB2gsZ3"
      },
      "source": [
        "**get_feature()** -  This functin is reponsible for loading an image and resizing it to 224 x 224 dimension. Hence this will result in 50176 features."
      ]
    },
    {
      "cell_type": "code",
      "execution_count": 6,
      "metadata": {
        "id": "0zW8vRQ_BLhB"
      },
      "outputs": [],
      "source": [
        "def get_feature(model, metadata):\n",
        "    print('{}'.format(metadata['id']))\n",
        "    try:\n",
        "        img_path = os.path.join('gfp', metadata['gfp'])\n",
        "        print(img_path)\n",
        "        if os.path.isfile(img_path):\n",
        "            #print('is file: {}'.format(img_path))\n",
        "            try:\n",
        "                # load image setting the image size to 224 x 224\n",
        "                img = image.load_img(img_path, target_size=(224, 224))\n",
        "                # convert image to numpy array\n",
        "                x = image.img_to_array(img)\n",
        "\n",
        "                # the image is now in an array of shape (3, 224, 224)\n",
        "                # but we need to expand it to (1, 2, 224, 224) as Keras is expecting a list of images\n",
        "                x = np.expand_dims(x, axis=0)\n",
        "                x = preprocess_input(x)\n",
        "                \n",
        "                # extract the features\n",
        "                features = model.predict(x)[0]\n",
        "                # convert from Numpy to a list of values\n",
        "                features_arr = np.char.mod('%f', features)\n",
        "\n",
        "                return {\"id\": metadata['id'], \"features\": ','.join(features_arr)}\n",
        "            except Exception as ex:\n",
        "                # skip all exceptions for now\n",
        "                print(ex)\n",
        "                pass\n",
        "    except Exception as ex:\n",
        "        # skip all exceptions for now\n",
        "        print(ex)\n",
        "        pass\n",
        "    return None\n"
      ]
    },
    {
      "cell_type": "markdown",
      "metadata": {
        "id": "KYymvxYbQjno"
      },
      "source": [
        "create_features() - This method will create a tsv file that consist of features mapped with each images"
      ]
    },
    {
      "cell_type": "code",
      "execution_count": 7,
      "metadata": {
        "id": "UA2hRS0uGTae"
      },
      "outputs": [],
      "source": [
        "def create_features(filename,features):\n",
        "  with open(filename, 'w') as output:\n",
        "    w = csv.DictWriter(output, fieldnames=['id', 'features'], delimiter='\\t', lineterminator='\\n')\n",
        "    w.writeheader()\n",
        "    w.writerows(features)\n"
      ]
    },
    {
      "cell_type": "markdown",
      "metadata": {
        "id": "bcEB4r-LVNpV"
      },
      "source": [
        "Using VGG 16 model for extracting features of an image. "
      ]
    },
    {
      "cell_type": "code",
      "execution_count": 8,
      "metadata": {
        "colab": {
          "base_uri": "https://localhost:8080/"
        },
        "id": "-ExvV56QBLhK",
        "outputId": "e3085d03-7e6e-4267-fda6-853a526d28df"
      },
      "outputs": [
        {
          "name": "stdout",
          "output_type": "stream",
          "text": [
            "Downloading data from https://storage.googleapis.com/tensorflow/keras-applications/vgg16/vgg16_weights_tf_dim_ordering_tf_kernels_notop.h5\n",
            "58889256/58889256 [==============================] - 0s 0us/step\n",
            "1\n",
            "gfp/37+55 cc24.png\n",
            "1/1 [==============================] - 1s 792ms/step\n",
            "2\n",
            "gfp/37+55 cc25.png\n",
            "1/1 [==============================] - 1s 624ms/step\n",
            "3\n",
            "gfp/37+55 cc26.png\n",
            "1/1 [==============================] - 1s 944ms/step\n",
            "4\n",
            "gfp/37+55 cc27.png\n",
            "1/1 [==============================] - 1s 1s/step\n",
            "5\n",
            "gfp/37+55 cc28.png\n",
            "1/1 [==============================] - 1s 997ms/step\n",
            "6\n",
            "gfp/37+55 cc29.png\n",
            "1/1 [==============================] - 1s 1s/step\n",
            "7\n",
            "gfp/37+55 cc30.png\n",
            "1/1 [==============================] - 1s 959ms/step\n",
            "8\n",
            "gfp/37+55 cc31.png\n",
            "1/1 [==============================] - 1s 1s/step\n",
            "9\n",
            "gfp/37+55 cc32.png\n",
            "1/1 [==============================] - 1s 968ms/step\n",
            "10\n",
            "gfp/37+55 cc33.png\n",
            "1/1 [==============================] - 1s 794ms/step\n",
            "11\n",
            "gfp/37+55 cc34.png\n",
            "1/1 [==============================] - 1s 589ms/step\n",
            "12\n",
            "gfp/37+55 cc35.png\n",
            "1/1 [==============================] - 1s 561ms/step\n",
            "13\n",
            "gfp/37+55 cc36.png\n",
            "1/1 [==============================] - 1s 562ms/step\n",
            "14\n",
            "gfp/37+55 cc37.png\n",
            "1/1 [==============================] - 1s 581ms/step\n",
            "15\n",
            "gfp/37+55 cc38.png\n",
            "1/1 [==============================] - 1s 561ms/step\n",
            "16\n",
            "gfp/37+55 cc39 (2).png\n",
            "1/1 [==============================] - 1s 558ms/step\n",
            "17\n",
            "gfp/37+55 cc39.png\n",
            "1/1 [==============================] - 1s 630ms/step\n",
            "18\n",
            "gfp/37+55 cc40 (2).png\n",
            "1/1 [==============================] - 1s 684ms/step\n",
            "19\n",
            "gfp/37+55 cc40.png\n",
            "1/1 [==============================] - 1s 584ms/step\n",
            "20\n",
            "gfp/37+55 cc41.png\n",
            "1/1 [==============================] - 1s 565ms/step\n",
            "21\n",
            "gfp/37+55 cc42.png\n",
            "1/1 [==============================] - 1s 552ms/step\n",
            "22\n",
            "gfp/37+55 cc43.png\n",
            "1/1 [==============================] - 1s 563ms/step\n",
            "23\n",
            "gfp/37+55 cc44.png\n",
            "1/1 [==============================] - 1s 584ms/step\n",
            "24\n",
            "gfp/37+55 cc45.png\n",
            "1/1 [==============================] - 1s 554ms/step\n",
            "25\n",
            "gfp/37+55 cc46.png\n",
            "1/1 [==============================] - 1s 890ms/step\n",
            "26\n",
            "gfp/37+55 cc47.png\n",
            "1/1 [==============================] - 1s 1s/step\n",
            "27\n",
            "gfp/37+55 cc48.png\n",
            "1/1 [==============================] - 1s 1s/step\n",
            "28\n",
            "gfp/37+55 cc49.png\n",
            "1/1 [==============================] - 1s 1s/step\n",
            "29\n",
            "gfp/37+55 cc50.png\n",
            "1/1 [==============================] - 1s 947ms/step\n",
            "30\n",
            "gfp/37+55 cc51.png\n",
            "1/1 [==============================] - 1s 1s/step\n",
            "31\n",
            "gfp/37+55 cc52.png\n",
            "1/1 [==============================] - 1s 1s/step\n",
            "32\n",
            "gfp/37+55 cc53.png\n",
            "1/1 [==============================] - 1s 782ms/step\n",
            "33\n",
            "gfp/37+55 cc54.png\n",
            "1/1 [==============================] - 1s 585ms/step\n",
            "34\n",
            "gfp/37+55 cc55.png\n",
            "1/1 [==============================] - 1s 568ms/step\n",
            "35\n",
            "gfp/37+55 cc56.png\n",
            "1/1 [==============================] - 1s 571ms/step\n",
            "36\n",
            "gfp/37+55 cc57.png\n",
            "1/1 [==============================] - 1s 595ms/step\n",
            "37\n",
            "gfp/37+55 cc58.png\n",
            "1/1 [==============================] - 1s 565ms/step\n",
            "38\n",
            "gfp/37+55 cc59.png\n",
            "1/1 [==============================] - 1s 564ms/step\n",
            "39\n",
            "gfp/37+55 cc60.png\n",
            "1/1 [==============================] - 1s 568ms/step\n",
            "40\n",
            "gfp/37+55 cc61.png\n",
            "1/1 [==============================] - 1s 557ms/step\n",
            "41\n",
            "gfp/37+55 cc62.png\n",
            "1/1 [==============================] - 1s 560ms/step\n",
            "42\n",
            "gfp/37+55 cc63.png\n",
            "1/1 [==============================] - 1s 577ms/step\n",
            "43\n",
            "gfp/37+55 cc64.png\n",
            "1/1 [==============================] - 1s 565ms/step\n",
            "44\n",
            "gfp/37+55 cc65.png\n",
            "1/1 [==============================] - 1s 539ms/step\n",
            "45\n",
            "gfp/37+55 cc66.png\n",
            "1/1 [==============================] - 1s 587ms/step\n",
            "46\n",
            "gfp/37+55 cc67.png\n",
            "1/1 [==============================] - 1s 576ms/step\n",
            "47\n",
            "gfp/37+55 cc68.png\n",
            "1/1 [==============================] - 1s 697ms/step\n",
            "48\n",
            "gfp/37+55 cc69.png\n",
            "1/1 [==============================] - 1s 1s/step\n",
            "49\n",
            "gfp/37+55 cc70.png\n",
            "1/1 [==============================] - 1s 975ms/step\n",
            "50\n",
            "gfp/37+55 cc71.png\n",
            "1/1 [==============================] - 1s 1s/step\n",
            "51\n",
            "gfp/37+55 cc72.png\n",
            "1/1 [==============================] - 1s 997ms/step\n",
            "52\n",
            "gfp/37+55 cc73.png\n",
            "1/1 [==============================] - 1s 950ms/step\n",
            "53\n",
            "gfp/37+55 cc74.png\n",
            "1/1 [==============================] - 1s 997ms/step\n",
            "54\n",
            "gfp/37+55 cc75.png\n",
            "1/1 [==============================] - 1s 770ms/step\n",
            "55\n",
            "gfp/37+55 cc76.png\n",
            "1/1 [==============================] - 1s 558ms/step\n",
            "56\n",
            "gfp/37+55 cc77.png\n",
            "1/1 [==============================] - 1s 569ms/step\n",
            "57\n",
            "gfp/arabidopsis_control1.png\n",
            "1/1 [==============================] - 1s 566ms/step\n",
            "58\n",
            "gfp/arabidopsis_control2.png\n",
            "1/1 [==============================] - 1s 571ms/step\n",
            "59\n",
            "gfp/arabidopsis_control5.png\n",
            "1/1 [==============================] - 1s 579ms/step\n",
            "60\n",
            "gfp/arabidopsis_control6.png\n",
            "1/1 [==============================] - 1s 577ms/step\n",
            "61\n",
            "gfp/arabidopsis_control9.png\n",
            "1/1 [==============================] - 1s 564ms/step\n",
            "62\n",
            "gfp/arabidopsis_control11.png\n",
            "1/1 [==============================] - 1s 589ms/step\n",
            "63\n",
            "gfp/arabidopsis_control12.png\n",
            "1/1 [==============================] - 1s 576ms/step\n",
            "64\n",
            "gfp/arabidopsis_control15.png\n",
            "1/1 [==============================] - 1s 562ms/step\n",
            "65\n",
            "gfp/arabidopsis_control17.png\n",
            "1/1 [==============================] - 1s 593ms/step\n",
            "66\n",
            "gfp/arabidopsis_control18.png\n",
            "1/1 [==============================] - 1s 575ms/step\n",
            "67\n",
            "gfp/arabidopsis_control21.png\n",
            "1/1 [==============================] - 1s 576ms/step\n",
            "68\n",
            "gfp/arabidopsis_control22.png\n",
            "1/1 [==============================] - 1s 567ms/step\n",
            "69\n",
            "gfp/dr5seedlings-00.jpg\n",
            "1/1 [==============================] - 1s 852ms/step\n",
            "70\n",
            "gfp/dr5seedlings-01.jpg\n",
            "1/1 [==============================] - 1s 1s/step\n",
            "71\n",
            "gfp/dr5seedlings-02.jpg\n",
            "1/1 [==============================] - 1s 992ms/step\n",
            "72\n",
            "gfp/dr5seedlings-03.jpg\n",
            "1/1 [==============================] - 1s 984ms/step\n",
            "73\n",
            "gfp/dr5seedlings-04.jpg\n",
            "1/1 [==============================] - 1s 1s/step\n",
            "74\n",
            "gfp/dr5seedlings-05.jpg\n",
            "1/1 [==============================] - 1s 919ms/step\n",
            "75\n",
            "gfp/dr5seedlings-06.jpg\n",
            "1/1 [==============================] - 1s 940ms/step\n",
            "76\n",
            "gfp/dr5seedlings-07.jpg\n",
            "1/1 [==============================] - 1s 997ms/step\n",
            "77\n",
            "gfp/dr5seedlings-08.jpg\n",
            "1/1 [==============================] - 1s 625ms/step\n",
            "78\n",
            "gfp/dr5seedlings-09.jpg\n",
            "1/1 [==============================] - 1s 562ms/step\n",
            "79\n",
            "gfp/dr5seedlings-10.jpg\n",
            "1/1 [==============================] - 1s 559ms/step\n",
            "80\n",
            "gfp/dr5seedlings-11.jpg\n",
            "1/1 [==============================] - 1s 574ms/step\n",
            "81\n",
            "gfp/dr5seedlings-12.jpg\n",
            "1/1 [==============================] - 1s 592ms/step\n",
            "82\n",
            "gfp/dr5seedlings-13.jpg\n",
            "1/1 [==============================] - 1s 555ms/step\n",
            "83\n",
            "gfp/dr5seedlings-14.jpg\n",
            "1/1 [==============================] - 1s 568ms/step\n",
            "84\n",
            "gfp/dr5seedlings-15.jpg\n",
            "1/1 [==============================] - 1s 565ms/step\n",
            "85\n",
            "gfp/dr5seedlings-16.jpg\n",
            "1/1 [==============================] - 1s 556ms/step\n",
            "86\n",
            "gfp/dr5seedlings-17.jpg\n",
            "1/1 [==============================] - 1s 585ms/step\n",
            "87\n",
            "gfp/dr5seedlings-18.jpg\n",
            "1/1 [==============================] - 1s 582ms/step\n",
            "88\n",
            "gfp/dr5spray-seedlings-00 (2).jpg\n",
            "1/1 [==============================] - 1s 549ms/step\n",
            "89\n",
            "gfp/dr5spray-seedlings-00 (3).jpg\n",
            "1/1 [==============================] - 1s 558ms/step\n",
            "90\n",
            "gfp/dr5spray-seedlings-00.jpg\n",
            "1/1 [==============================] - 1s 575ms/step\n",
            "91\n",
            "gfp/dr5spray-seedlings-00a.jpg\n",
            "1/1 [==============================] - 1s 532ms/step\n",
            "92\n",
            "gfp/dr5spray-seedlings-00b.jpg\n",
            "1/1 [==============================] - 1s 684ms/step\n",
            "93\n",
            "gfp/dr5spray-seedlings-01 (2).jpg\n",
            "1/1 [==============================] - 1s 1s/step\n",
            "94\n",
            "gfp/dr5spray-seedlings-01 (3).jpg\n",
            "1/1 [==============================] - 1s 986ms/step\n",
            "95\n",
            "gfp/dr5spray-seedlings-01.jpg\n",
            "1/1 [==============================] - 1s 1s/step\n",
            "96\n",
            "gfp/dr5spray-seedlings-01a.jpg\n",
            "1/1 [==============================] - 1s 1s/step\n",
            "97\n",
            "gfp/dr5spray-seedlings-02.jpg\n",
            "1/1 [==============================] - 1s 943ms/step\n",
            "98\n",
            "gfp/dr5spray-seedlings2-00 (2).jpg\n",
            "1/1 [==============================] - 1s 975ms/step\n",
            "99\n",
            "gfp/dr5spray-seedlings2-00 (3).jpg\n",
            "1/1 [==============================] - 1s 972ms/step\n",
            "100\n",
            "gfp/dr5spray-seedlings2-00 (4).jpg\n",
            "1/1 [==============================] - 1s 589ms/step\n",
            "101\n",
            "gfp/dr5spray-seedlings2-00 (5).jpg\n",
            "1/1 [==============================] - 1s 529ms/step\n",
            "102\n",
            "gfp/dr5spray-seedlings2-00 (6).jpg\n",
            "1/1 [==============================] - 1s 584ms/step\n",
            "103\n",
            "gfp/dr5spray-seedlings2-00 (7).jpg\n",
            "1/1 [==============================] - 1s 565ms/step\n",
            "104\n",
            "gfp/dr5spray-seedlings2-00 (8).jpg\n",
            "1/1 [==============================] - 1s 546ms/step\n",
            "105\n",
            "gfp/dr5spray-seedlings2-00 (9).jpg\n",
            "1/1 [==============================] - 1s 569ms/step\n",
            "106\n",
            "gfp/dr5spray-seedlings2-00 (10).jpg\n",
            "1/1 [==============================] - 1s 584ms/step\n",
            "107\n",
            "gfp/dr5spray-seedlings2-00 (11).jpg\n",
            "1/1 [==============================] - 1s 557ms/step\n",
            "108\n",
            "gfp/dr5spray-seedlings2-00 (12).jpg\n",
            "1/1 [==============================] - 1s 584ms/step\n",
            "109\n",
            "gfp/dr5spray-seedlings2-00 (13).jpg\n",
            "1/1 [==============================] - 1s 573ms/step\n",
            "110\n",
            "gfp/dr5spray-seedlings2-00 (14).jpg\n",
            "1/1 [==============================] - 1s 553ms/step\n",
            "111\n",
            "gfp/dr5spray-seedlings2-00.jpg\n",
            "1/1 [==============================] - 1s 576ms/step\n",
            "112\n",
            "gfp/dr5spray-seedlings2-00-2x (2).jpg\n",
            "1/1 [==============================] - 1s 578ms/step\n",
            "113\n",
            "gfp/dr5spray-seedlings2-00-2x (3).jpg\n",
            "1/1 [==============================] - 1s 554ms/step\n",
            "114\n",
            "gfp/dr5spray-seedlings2-00-2x (4).jpg\n",
            "1/1 [==============================] - 1s 553ms/step\n",
            "115\n",
            "gfp/dr5spray-seedlings2-00-2x (5).jpg\n",
            "1/1 [==============================] - 1s 901ms/step\n",
            "116\n",
            "gfp/dr5spray-seedlings2-00-2x (6).jpg\n",
            "1/1 [==============================] - 1s 994ms/step\n",
            "117\n",
            "gfp/dr5spray-seedlings2-00-2x (7).jpg\n",
            "1/1 [==============================] - 1s 1s/step\n",
            "118\n",
            "gfp/dr5spray-seedlings2-00-2x.jpg\n",
            "1/1 [==============================] - 1s 1s/step\n",
            "119\n",
            "gfp/dr5spray-seedlings2-01 (2).jpg\n",
            "1/1 [==============================] - 1s 956ms/step\n",
            "120\n",
            "gfp/dr5spray-seedlings2-01 (3).jpg\n",
            "1/1 [==============================] - 1s 979ms/step\n",
            "121\n",
            "gfp/dr5spray-seedlings2-01 (4).jpg\n",
            "1/1 [==============================] - 1s 957ms/step\n",
            "122\n",
            "gfp/dr5spray-seedlings2-01 (5).jpg\n",
            "1/1 [==============================] - 1s 854ms/step\n",
            "123\n",
            "gfp/dr5spray-seedlings2-01 (6).jpg\n",
            "1/1 [==============================] - 1s 548ms/step\n",
            "124\n",
            "gfp/dr5spray-seedlings2-01 (7).jpg\n",
            "1/1 [==============================] - 1s 589ms/step\n",
            "125\n",
            "gfp/dr5spray-seedlings2-01 (8).jpg\n",
            "1/1 [==============================] - 1s 588ms/step\n",
            "126\n",
            "gfp/dr5spray-seedlings2-01 (9).jpg\n",
            "1/1 [==============================] - 1s 544ms/step\n",
            "127\n",
            "gfp/dr5spray-seedlings2-01 (10).jpg\n",
            "1/1 [==============================] - 1s 551ms/step\n",
            "128\n",
            "gfp/dr5spray-seedlings2-01 (11).jpg\n",
            "1/1 [==============================] - 1s 601ms/step\n",
            "129\n",
            "gfp/dr5spray-seedlings2-01 (12).jpg\n",
            "1/1 [==============================] - 1s 558ms/step\n",
            "130\n",
            "gfp/dr5spray-seedlings2-01 (13).jpg\n",
            "1/1 [==============================] - 1s 570ms/step\n",
            "131\n",
            "gfp/dr5spray-seedlings2-01.jpg\n",
            "1/1 [==============================] - 1s 581ms/step\n",
            "132\n",
            "gfp/dr5spray-seedlings2-01-2x.jpg\n",
            "1/1 [==============================] - 1s 527ms/step\n",
            "133\n",
            "gfp/dr5spray-seedlings2-02.jpg\n",
            "1/1 [==============================] - 1s 567ms/step\n",
            "134\n",
            "gfp/dr5spray-seedlings-03.jpg\n",
            "1/1 [==============================] - 1s 571ms/step\n",
            "135\n",
            "gfp/dr5sprayseedlings3-00 (2).jpg\n",
            "1/1 [==============================] - 1s 550ms/step\n",
            "136\n",
            "gfp/dr5sprayseedlings3-00 (3).jpg\n",
            "1/1 [==============================] - 1s 580ms/step\n",
            "137\n",
            "gfp/dr5sprayseedlings3-00 (4).jpg\n",
            "1/1 [==============================] - 1s 699ms/step\n",
            "138\n",
            "gfp/dr5sprayseedlings3-00 (5).jpg\n",
            "1/1 [==============================] - 1s 1s/step\n",
            "139\n",
            "gfp/dr5sprayseedlings3-00 (6).jpg\n",
            "1/1 [==============================] - 1s 1s/step\n",
            "140\n",
            "gfp/dr5sprayseedlings3-00 (7).jpg\n",
            "1/1 [==============================] - 1s 1s/step\n",
            "141\n",
            "gfp/dr5sprayseedlings3-00.jpg\n",
            "1/1 [==============================] - 1s 1s/step\n",
            "142\n",
            "gfp/dr5sprayseedlings3-01 (2).jpg\n",
            "1/1 [==============================] - 1s 937ms/step\n",
            "143\n",
            "gfp/dr5sprayseedlings3-01 (3).jpg\n",
            "1/1 [==============================] - 1s 992ms/step\n",
            "144\n",
            "gfp/dr5sprayseedlings3-01 (4).jpg\n",
            "1/1 [==============================] - 1s 966ms/step\n",
            "145\n",
            "gfp/dr5sprayseedlings3-01 (5).jpg\n",
            "1/1 [==============================] - 1s 681ms/step\n",
            "146\n",
            "gfp/dr5sprayseedlings3-01 (6).jpg\n",
            "1/1 [==============================] - 1s 544ms/step\n",
            "147\n",
            "gfp/dr5sprayseedlings3-01 (7).jpg\n",
            "1/1 [==============================] - 1s 589ms/step\n",
            "148\n",
            "gfp/dr5sprayseedlings3-01.jpg\n",
            "1/1 [==============================] - 1s 580ms/step\n",
            "149\n",
            "gfp/dr5sprayseedlings3-02 (2).jpg\n",
            "1/1 [==============================] - 1s 563ms/step\n",
            "150\n",
            "gfp/dr5sprayseedlings3-02 (3).jpg\n",
            "1/1 [==============================] - 1s 585ms/step\n",
            "151\n",
            "gfp/dr5sprayseedlings3-02 (4).jpg\n",
            "1/1 [==============================] - 1s 579ms/step\n",
            "152\n",
            "gfp/dr5sprayseedlings3-02 (5).jpg\n",
            "1/1 [==============================] - 1s 546ms/step\n",
            "153\n",
            "gfp/dr5sprayseedlings3-02.jpg\n",
            "1/1 [==============================] - 1s 587ms/step\n",
            "154\n",
            "gfp/root1.png\n",
            "1/1 [==============================] - 1s 586ms/step\n",
            "155\n",
            "gfp/root2.png\n",
            "1/1 [==============================] - 1s 540ms/step\n",
            "156\n",
            "gfp/root3.png\n",
            "1/1 [==============================] - 1s 589ms/step\n",
            "157\n",
            "gfp/root4.png\n",
            "1/1 [==============================] - 1s 565ms/step\n",
            "158\n",
            "gfp/root5.png\n",
            "1/1 [==============================] - 1s 571ms/step\n",
            "159\n",
            "gfp/root6.png\n",
            "1/1 [==============================] - 1s 566ms/step\n",
            "160\n",
            "gfp/root7.png\n",
            "1/1 [==============================] - 1s 694ms/step\n",
            "161\n",
            "gfp/root8.png\n",
            "1/1 [==============================] - 1s 966ms/step\n",
            "162\n",
            "gfp/root9.png\n",
            "1/1 [==============================] - 1s 1s/step\n",
            "163\n",
            "gfp/root10.png\n",
            "1/1 [==============================] - 1s 1s/step\n",
            "164\n",
            "gfp/root11.png\n",
            "1/1 [==============================] - 1s 1s/step\n",
            "165\n",
            "gfp/root12.png\n",
            "1/1 [==============================] - 1s 956ms/step\n",
            "166\n",
            "gfp/37+55 cc3.png\n",
            "1/1 [==============================] - 1s 964ms/step\n",
            "167\n",
            "gfp/37+55 cc4.png\n",
            "1/1 [==============================] - 1s 880ms/step\n",
            "168\n",
            "gfp/37+55 cc5.png\n",
            "1/1 [==============================] - 1s 562ms/step\n",
            "169\n",
            "gfp/37+55 cc6.png\n",
            "1/1 [==============================] - 1s 550ms/step\n",
            "170\n",
            "gfp/37+55 cc7.png\n",
            "1/1 [==============================] - 1s 568ms/step\n",
            "171\n",
            "gfp/37+55 cc8.png\n",
            "1/1 [==============================] - 1s 572ms/step\n",
            "172\n",
            "gfp/37+55 cc9.png\n",
            "1/1 [==============================] - 1s 547ms/step\n",
            "173\n",
            "gfp/37+55 cc10.png\n",
            "1/1 [==============================] - 1s 570ms/step\n",
            "174\n",
            "gfp/37+55 cc11.png\n",
            "1/1 [==============================] - 1s 580ms/step\n",
            "175\n",
            "gfp/37+55 cc12.png\n",
            "1/1 [==============================] - 1s 542ms/step\n",
            "176\n",
            "gfp/37+55 cc13.png\n",
            "1/1 [==============================] - 1s 573ms/step\n",
            "177\n",
            "gfp/37+55 cc14.png\n",
            "1/1 [==============================] - 1s 591ms/step\n",
            "178\n",
            "gfp/37+55 cc15.png\n",
            "1/1 [==============================] - 1s 543ms/step\n",
            "179\n",
            "gfp/37+55 cc16.png\n",
            "1/1 [==============================] - 1s 588ms/step\n",
            "180\n",
            "gfp/37+55 cc17.png\n",
            "1/1 [==============================] - 1s 591ms/step\n",
            "181\n",
            "gfp/37+55 cc18.png\n",
            "1/1 [==============================] - 1s 547ms/step\n",
            "182\n",
            "gfp/37+55 cc19.png\n",
            "1/1 [==============================] - 1s 642ms/step\n",
            "183\n",
            "gfp/37+55 cc20.png\n",
            "1/1 [==============================] - 1s 983ms/step\n",
            "184\n",
            "gfp/37+55 cc21.png\n",
            "1/1 [==============================] - 1s 1s/step\n",
            "185\n",
            "gfp/37+55 cc22.png\n",
            "1/1 [==============================] - 1s 1s/step\n",
            "186\n",
            "gfp/37+55 cc23.png\n",
            "1/1 [==============================] - 1s 1s/step\n"
          ]
        }
      ],
      "source": [
        "data = pandas.read_csv(\"data.csv\")\n",
        "file = \"features_\"\n",
        "\n",
        "# VGG-16\n",
        "model_vgg16 = applications.vgg16.VGG16(weights='imagenet', include_top=False, pooling='avg')\n",
        "features_vgg16 = map(functools.partial(get_feature,model_vgg16), data.T.to_dict().values())\n",
        "# remove empty entries\n",
        "features_vgg16 = filter(None, features_vgg16)\n",
        "create_features(file+\"vgg16.tsv\",features_vgg16)\n",
        "\n",
        "\n",
        "\n"
      ]
    },
    {
      "cell_type": "markdown",
      "metadata": {
        "id": "DiEbJ2JyKKXa"
      },
      "source": [
        "APPLYING TSNE/PCA/PCA-TSNE\n",
        "> To reduce the dimentionality of the dataset, using Principle Component Analysis (PCA). As shown in following calculation, considering **n_components = 50** results into **95%** of variance\n",
        "\n"
      ]
    },
    {
      "cell_type": "code",
      "execution_count": 9,
      "metadata": {
        "colab": {
          "base_uri": "https://localhost:8080/",
          "height": 362
        },
        "id": "lTTlFQPR0GmZ",
        "outputId": "6602ff2b-8d7c-4604-da90-5831e6da6d68"
      },
      "outputs": [
        {
          "data": {
            "image/png": "[encoded data removed]",
            "text/plain": [
              "<Figure size 1200x600 with 1 Axes>"
            ]
          },
          "metadata": {},
          "output_type": "display_data"
        }
      ],
      "source": [
        "data_vgg16 = pandas.read_csv(file+\"vgg16.tsv\", sep='\\t')\n",
        "\n",
        "# split the comma delimited string back into a list of values\n",
        "transformed = [d.split(',') for d in data_vgg16['features']]\n",
        "# convert image data to float64 matrix. float64 is need for bh_sne\n",
        "x_data = np.asarray(transformed).astype('float64')\n",
        "x_data = x_data.reshape((x_data.shape[0], -1))\n",
        "\n",
        "pca = decomposition.PCA().fit(x_data)\n",
        "\n",
        "plt.rcParams[\"figure.figsize\"] = (12,6)\n",
        "\n",
        "fig, ax = plt.subplots()\n",
        "xi = np.arange(1, 187, step=1)\n",
        "y = np.cumsum(pca.explained_variance_ratio_)\n",
        "\n",
        "plt.ylim(0.0,1.1)\n",
        "plt.plot(xi, y, marker='o', linestyle='--', color='b')\n",
        "\n",
        "plt.xlabel('Number of Components')\n",
        "plt.xticks(np.arange(0, 187, step=20)) #change from 0-based array index to 1-based human-readable label\n",
        "plt.ylabel('Cumulative variance (%)')\n",
        "plt.title('The number of components needed to explain variance')\n",
        "\n",
        "plt.axhline(y=0.95, color='r', linestyle='-')\n",
        "plt.text(0.5, 0.85, '95% cut-off threshold', color = 'red', fontsize=16)\n",
        "\n",
        "ax.grid(axis='x')\n",
        "plt.show()"
      ]
    },
    {
      "cell_type": "code",
      "execution_count": 10,
      "metadata": {
        "id": "ibZAT4CKBLhT"
      },
      "outputs": [],
      "source": [
        "def process(data):\n",
        "    model = decomposition.PCA(n_components=50)\n",
        "    vis_data = model.fit_transform(x_data)\n",
        "    # convert the results into a list of dict\n",
        "    results = []\n",
        "    for i in range(0, len(data)):\n",
        "        results.append({\n",
        "            'id': data['id'][i],\n",
        "            'x': vis_data[i][0],\n",
        "            'y': vis_data[i][1]\n",
        "        })\n",
        "    return results,model\n"
      ]
    },
    {
      "cell_type": "code",
      "execution_count": 11,
      "metadata": {
        "id": "y_s98-r26mdw"
      },
      "outputs": [],
      "source": [
        "from keras.layers import Input, Conv2D, MaxPooling2D, UpSampling2D,Dense,Reshape\n",
        "from keras.models import Model\n",
        "from sklearn.preprocessing import StandardScaler\n",
        "import numpy as np"
      ]
    },
    {
      "cell_type": "markdown",
      "metadata": {
        "id": "2gE6sOhWWKqr"
      },
      "source": [
        "Using Autoencoders and PCA for dimentionality reduction"
      ]
    },
    {
      "cell_type": "code",
      "execution_count": 12,
      "metadata": {
        "id": "M2Sr4pQ66UzW"
      },
      "outputs": [],
      "source": [
        "from keras.layers import BatchNormalization, Dropout\n",
        "\n",
        "def process(data1):\n",
        "    model = decomposition.PCA(n_components=100)\n",
        "    vis_data = model.fit_transform(x_data)\n",
        "\n",
        "    scaler = StandardScaler()\n",
        "    data = scaler.fit_transform(vis_data)\n",
        "\n",
        "    input_layer = Input(shape=(data.shape[1],))\n",
        "    encoded = Dense(64, activation='relu')(input_layer)\n",
        "    encoded = BatchNormalization()(encoded)\n",
        "    encoded = Dense(32, activation='relu')(encoded)\n",
        "    encoded = Dropout(0.5)(encoded)\n",
        "    encoded = Dense(16, activation='relu')(encoded)\n",
        "    bottleneck = Dense(8, activation='relu')(encoded)\n",
        "    decoded = Dense(16, activation='relu')(bottleneck)\n",
        "    decoded = BatchNormalization()(decoded)\n",
        "    decoded = Dense(32, activation='relu')(decoded)\n",
        "    decoded = Dropout(0.5)(decoded)\n",
        "    decoded = Dense(64, activation='relu')(decoded)\n",
        "    decoded = Dense(data.shape[1], activation='linear')(decoded)\n",
        "\n",
        "    autoencoder = Model(input_layer, decoded)\n",
        "    autoencoder.compile(optimizer='adam', loss='mean_squared_error')\n",
        "    autoencoder.fit(data, data, epochs=100, batch_size=32, shuffle=True)\n",
        "\n",
        "    encoder = Model(input_layer, bottleneck)\n",
        "    encoded_data = encoder.predict(data)\n",
        "\n",
        "    decoder_input = Input(shape=(8,))\n",
        "    decoded = Dense(16, activation='relu')(decoder_input)\n",
        "    decoded = BatchNormalization()(decoded)\n",
        "    decoded = Dense(32, activation='relu')(decoded)\n",
        "    decoded = Dropout(0.5)(decoded)\n",
        "    decoded = Dense(64, activation='relu')(decoded)\n",
        "    decoded = Dense(data.shape[1], activation='linear')(decoded)\n",
        "    decoded = Reshape(target_shape=(data.shape[1],))(decoded)\n",
        "\n",
        "    decoder = Model(decoder_input, decoded)\n",
        "    autoencoder = Model(input_layer, decoder(encoder(input_layer)))\n",
        "    decoded_data = autoencoder.predict(data)\n",
        "    decoded_data = scaler.inverse_transform(decoded_data)\n",
        "\n",
        "    results = []\n",
        "    for i in range(0, len(data)):\n",
        "        results.append({\n",
        "            'id': data1['id'][i],\n",
        "            'x': decoded_data[i][0],\n",
        "            'y': decoded_data[i][1]\n",
        "        })\n",
        "    return results, model\n"
      ]
    },
    {
      "cell_type": "code",
      "execution_count": 13,
      "metadata": {
        "id": "XNj8PpOiBLhc"
      },
      "outputs": [],
      "source": [
        "def write_tsv(results, output_tsv):\n",
        "    # write to a tab delimited file\n",
        "    with open(output_tsv, 'w') as output:\n",
        "        w = csv.DictWriter(\n",
        "            output, fieldnames=['id', 'x', 'y'], delimiter='\\t',\n",
        "            lineterminator='\\n')\n",
        "        w.writeheader()\n",
        "        w.writerows(results)\n"
      ]
    },
    {
      "cell_type": "code",
      "execution_count": 14,
      "metadata": {
        "colab": {
          "base_uri": "https://localhost:8080/"
        },
        "id": "s__gx-PCBLhj",
        "outputId": "266a548c-be80-44c5-d840-4fc0646972bd"
      },
      "outputs": [
        {
          "name": "stdout",
          "output_type": "stream",
          "text": [
            "Epoch 1/100\n",
            "6/6 [==============================] - 2s 5ms/step - loss: 1.1162\n",
            "Epoch 2/100\n",
            "6/6 [==============================] - 0s 5ms/step - loss: 1.0792\n",
            "Epoch 3/100\n",
            "6/6 [==============================] - 0s 5ms/step - loss: 1.0494\n",
            "Epoch 4/100\n",
            "6/6 [==============================] - 0s 5ms/step - loss: 1.0533\n",
            "Epoch 5/100\n",
            "6/6 [==============================] - 0s 4ms/step - loss: 1.0301\n",
            "Epoch 6/100\n",
            "6/6 [==============================] - 0s 7ms/step - loss: 1.0329\n",
            "Epoch 7/100\n",
            "6/6 [==============================] - 0s 4ms/step - loss: 1.0281\n",
            "Epoch 8/100\n",
            "6/6 [==============================] - 0s 5ms/step - loss: 1.0204\n",
            "Epoch 9/100\n",
            "6/6 [==============================] - 0s 6ms/step - loss: 1.0173\n",
            "Epoch 10/100\n",
            "6/6 [==============================] - 0s 4ms/step - loss: 1.0165\n",
            "Epoch 11/100\n",
            "6/6 [==============================] - 0s 7ms/step - loss: 1.0129\n",
            "Epoch 12/100\n",
            "6/6 [==============================] - 0s 6ms/step - loss: 1.0131\n",
            "Epoch 13/100\n",
            "6/6 [==============================] - 0s 6ms/step - loss: 1.0116\n",
            "Epoch 14/100\n",
            "6/6 [==============================] - 0s 5ms/step - loss: 1.0080\n",
            "Epoch 15/100\n",
            "6/6 [==============================] - 0s 8ms/step - loss: 1.0059\n",
            "Epoch 16/100\n",
            "6/6 [==============================] - 0s 4ms/step - loss: 1.0073\n",
            "Epoch 17/100\n",
            "6/6 [==============================] - 0s 5ms/step - loss: 1.0085\n",
            "Epoch 18/100\n",
            "6/6 [==============================] - 0s 7ms/step - loss: 1.0089\n",
            "Epoch 19/100\n",
            "6/6 [==============================] - 0s 5ms/step - loss: 1.0097\n",
            "Epoch 20/100\n",
            "6/6 [==============================] - 0s 6ms/step - loss: 1.0034\n",
            "Epoch 21/100\n",
            "6/6 [==============================] - 0s 4ms/step - loss: 1.0046\n",
            "Epoch 22/100\n",
            "6/6 [==============================] - 0s 4ms/step - loss: 1.0043\n",
            "Epoch 23/100\n",
            "6/6 [==============================] - 0s 4ms/step - loss: 1.0019\n",
            "Epoch 24/100\n",
            "6/6 [==============================] - 0s 4ms/step - loss: 1.0014\n",
            "Epoch 25/100\n",
            "6/6 [==============================] - 0s 6ms/step - loss: 1.0048\n",
            "Epoch 26/100\n",
            "6/6 [==============================] - 0s 6ms/step - loss: 0.9987\n",
            "Epoch 27/100\n",
            "6/6 [==============================] - 0s 5ms/step - loss: 1.0027\n",
            "Epoch 28/100\n",
            "6/6 [==============================] - 0s 4ms/step - loss: 0.9993\n",
            "Epoch 29/100\n",
            "6/6 [==============================] - 0s 5ms/step - loss: 1.0017\n",
            "Epoch 30/100\n",
            "6/6 [==============================] - 0s 5ms/step - loss: 0.9980\n",
            "Epoch 31/100\n",
            "6/6 [==============================] - 0s 6ms/step - loss: 1.0010\n",
            "Epoch 32/100\n",
            "6/6 [==============================] - 0s 5ms/step - loss: 0.9993\n",
            "Epoch 33/100\n",
            "6/6 [==============================] - 0s 4ms/step - loss: 0.9964\n",
            "Epoch 34/100\n",
            "6/6 [==============================] - 0s 4ms/step - loss: 0.9982\n",
            "Epoch 35/100\n",
            "6/6 [==============================] - 0s 5ms/step - loss: 0.9984\n",
            "Epoch 36/100\n",
            "6/6 [==============================] - 0s 4ms/step - loss: 0.9987\n",
            "Epoch 37/100\n",
            "6/6 [==============================] - 0s 5ms/step - loss: 0.9997\n",
            "Epoch 38/100\n",
            "6/6 [==============================] - 0s 4ms/step - loss: 0.9991\n",
            "Epoch 39/100\n",
            "6/6 [==============================] - 0s 5ms/step - loss: 0.9968\n",
            "Epoch 40/100\n",
            "6/6 [==============================] - 0s 4ms/step - loss: 0.9970\n",
            "Epoch 41/100\n",
            "6/6 [==============================] - 0s 7ms/step - loss: 0.9977\n",
            "Epoch 42/100\n",
            "6/6 [==============================] - 0s 4ms/step - loss: 0.9964\n",
            "Epoch 43/100\n",
            "6/6 [==============================] - 0s 4ms/step - loss: 0.9965\n",
            "Epoch 44/100\n",
            "6/6 [==============================] - 0s 4ms/step - loss: 0.9945\n",
            "Epoch 45/100\n",
            "6/6 [==============================] - 0s 4ms/step - loss: 0.9956\n",
            "Epoch 46/100\n",
            "6/6 [==============================] - 0s 5ms/step - loss: 0.9966\n",
            "Epoch 47/100\n",
            "6/6 [==============================] - 0s 5ms/step - loss: 0.9967\n",
            "Epoch 48/100\n",
            "6/6 [==============================] - 0s 5ms/step - loss: 0.9961\n",
            "Epoch 49/100\n",
            "6/6 [==============================] - 0s 5ms/step - loss: 0.9944\n",
            "Epoch 50/100\n",
            "6/6 [==============================] - 0s 4ms/step - loss: 0.9948\n",
            "Epoch 51/100\n",
            "6/6 [==============================] - 0s 4ms/step - loss: 0.9938\n",
            "Epoch 52/100\n",
            "6/6 [==============================] - 0s 6ms/step - loss: 0.9956\n",
            "Epoch 53/100\n",
            "6/6 [==============================] - 0s 4ms/step - loss: 0.9944\n",
            "Epoch 54/100\n",
            "6/6 [==============================] - 0s 5ms/step - loss: 0.9973\n",
            "Epoch 55/100\n",
            "6/6 [==============================] - 0s 5ms/step - loss: 0.9939\n",
            "Epoch 56/100\n",
            "6/6 [==============================] - 0s 5ms/step - loss: 0.9925\n",
            "Epoch 57/100\n",
            "6/6 [==============================] - 0s 5ms/step - loss: 0.9943\n",
            "Epoch 58/100\n",
            "6/6 [==============================] - 0s 5ms/step - loss: 0.9954\n",
            "Epoch 59/100\n",
            "6/6 [==============================] - 0s 6ms/step - loss: 0.9932\n",
            "Epoch 60/100\n",
            "6/6 [==============================] - 0s 5ms/step - loss: 0.9916\n",
            "Epoch 61/100\n",
            "6/6 [==============================] - 0s 6ms/step - loss: 0.9939\n",
            "Epoch 62/100\n",
            "6/6 [==============================] - 0s 6ms/step - loss: 0.9938\n",
            "Epoch 63/100\n",
            "6/6 [==============================] - 0s 5ms/step - loss: 0.9943\n",
            "Epoch 64/100\n",
            "6/6 [==============================] - 0s 5ms/step - loss: 0.9918\n",
            "Epoch 65/100\n",
            "6/6 [==============================] - 0s 5ms/step - loss: 0.9915\n",
            "Epoch 66/100\n",
            "6/6 [==============================] - 0s 6ms/step - loss: 0.9928\n",
            "Epoch 67/100\n",
            "6/6 [==============================] - 0s 5ms/step - loss: 0.9918\n",
            "Epoch 68/100\n",
            "6/6 [==============================] - 0s 7ms/step - loss: 0.9921\n",
            "Epoch 69/100\n",
            "6/6 [==============================] - 0s 7ms/step - loss: 0.9897\n",
            "Epoch 70/100\n",
            "6/6 [==============================] - 0s 5ms/step - loss: 0.9912\n",
            "Epoch 71/100\n",
            "6/6 [==============================] - 0s 6ms/step - loss: 0.9900\n",
            "Epoch 72/100\n",
            "6/6 [==============================] - 0s 4ms/step - loss: 0.9901\n",
            "Epoch 73/100\n",
            "6/6 [==============================] - 0s 5ms/step - loss: 0.9900\n",
            "Epoch 74/100\n",
            "6/6 [==============================] - 0s 4ms/step - loss: 0.9880\n",
            "Epoch 75/100\n",
            "6/6 [==============================] - 0s 6ms/step - loss: 0.9891\n",
            "Epoch 76/100\n",
            "6/6 [==============================] - 0s 7ms/step - loss: 0.9907\n",
            "Epoch 77/100\n",
            "6/6 [==============================] - 0s 6ms/step - loss: 0.9904\n",
            "Epoch 78/100\n",
            "6/6 [==============================] - 0s 6ms/step - loss: 0.9899\n",
            "Epoch 79/100\n",
            "6/6 [==============================] - 0s 5ms/step - loss: 0.9902\n",
            "Epoch 80/100\n",
            "6/6 [==============================] - 0s 4ms/step - loss: 0.9891\n",
            "Epoch 81/100\n",
            "6/6 [==============================] - 0s 4ms/step - loss: 0.9873\n",
            "Epoch 82/100\n",
            "6/6 [==============================] - 0s 4ms/step - loss: 0.9885\n",
            "Epoch 83/100\n",
            "6/6 [==============================] - 0s 5ms/step - loss: 0.9874\n",
            "Epoch 84/100\n",
            "6/6 [==============================] - 0s 4ms/step - loss: 0.9873\n",
            "Epoch 85/100\n",
            "6/6 [==============================] - 0s 5ms/step - loss: 0.9893\n",
            "Epoch 86/100\n",
            "6/6 [==============================] - 0s 4ms/step - loss: 0.9857\n",
            "Epoch 87/100\n",
            "6/6 [==============================] - 0s 5ms/step - loss: 0.9863\n",
            "Epoch 88/100\n",
            "6/6 [==============================] - 0s 5ms/step - loss: 0.9888\n",
            "Epoch 89/100\n",
            "6/6 [==============================] - 0s 4ms/step - loss: 0.9883\n",
            "Epoch 90/100\n",
            "6/6 [==============================] - 0s 4ms/step - loss: 0.9886\n",
            "Epoch 91/100\n",
            "6/6 [==============================] - 0s 5ms/step - loss: 0.9838\n",
            "Epoch 92/100\n",
            "6/6 [==============================] - 0s 6ms/step - loss: 0.9824\n",
            "Epoch 93/100\n",
            "6/6 [==============================] - 0s 4ms/step - loss: 0.9834\n",
            "Epoch 94/100\n",
            "6/6 [==============================] - 0s 6ms/step - loss: 0.9851\n",
            "Epoch 95/100\n",
            "6/6 [==============================] - 0s 5ms/step - loss: 0.9851\n",
            "Epoch 96/100\n",
            "6/6 [==============================] - 0s 4ms/step - loss: 0.9845\n",
            "Epoch 97/100\n",
            "6/6 [==============================] - 0s 4ms/step - loss: 0.9859\n",
            "Epoch 98/100\n",
            "6/6 [==============================] - 0s 5ms/step - loss: 0.9854\n",
            "Epoch 99/100\n",
            "6/6 [==============================] - 0s 4ms/step - loss: 0.9824\n",
            "Epoch 100/100\n",
            "6/6 [==============================] - 0s 4ms/step - loss: 0.9847\n",
            "6/6 [==============================] - 0s 2ms/step\n",
            "6/6 [==============================] - 0s 3ms/step\n"
          ]
        }
      ],
      "source": [
        "file = \"features_\"\n",
        "\n",
        "# VGG-16\n",
        "data_vgg16 = pandas.read_csv(file+\"vgg16.tsv\", sep='\\t')\n",
        "results_vgg16,pca_model = process(data_vgg16)\n",
        "write_tsv(results_vgg16, file+\"vgg16_tsne.tsv\")\n"
      ]
    },
    {
      "cell_type": "code",
      "execution_count": 15,
      "metadata": {
        "id": "ojEiyeNOBLhp"
      },
      "outputs": [],
      "source": [
        "x = []\n",
        "y = []\n",
        "# VGG-16\n",
        "x_vgg16 = []\n",
        "y_vgg16 = []\n",
        "for i in results_vgg16:\n",
        "    x_vgg16.append(i['x'])\n",
        "    y_vgg16.append(i['y'])\n",
        "x.append(x_vgg16)\n",
        "y.append(y_vgg16)\n",
        "   "
      ]
    },
    {
      "cell_type": "code",
      "execution_count": 16,
      "metadata": {
        "colab": {
          "base_uri": "https://localhost:8080/",
          "height": 288
        },
        "id": "jHa5xUb6BLht",
        "outputId": "02003ad9-4b6b-423e-b07f-b0f1b4da9b74"
      },
      "outputs": [
        {
          "data": {
            "text/plain": [
              "<matplotlib.collections.PathCollection at 0x7fc6d8cef670>"
            ]
          },
          "execution_count": 16,
          "metadata": {},
          "output_type": "execute_result"
        },
        {
          "data": {
            "image/png": "[encoded data removed]",
            "text/plain": [
              "<Figure size 1200x600 with 1 Axes>"
            ]
          },
          "metadata": {},
          "output_type": "display_data"
        }
      ],
      "source": [
        "plt.subplot(2,3,1)\n",
        "plt.scatter(x[0], y[0], label= \"stars\", color= \"green\", marker= \"*\", s=30) \n"
      ]
    },
    {
      "cell_type": "markdown",
      "metadata": {
        "id": "-8nWxd4hf43S"
      },
      "source": [
        "## Model Training"
      ]
    },
    {
      "cell_type": "code",
      "execution_count": 17,
      "metadata": {
        "id": "IOMvbP5580Pm"
      },
      "outputs": [],
      "source": [
        "from sklearn.cluster import KMeans\n",
        "\n",
        "def kmean_elbow(df):\n",
        "  distortions = []\n",
        "  K = range(1,10)\n",
        "  for k in K:\n",
        "      kmeanModel = KMeans(n_clusters=k)\n",
        "      kmeanModel.fit(df)\n",
        "      distortions.append(kmeanModel.inertia_)\n",
        "\n",
        "  plt.figure(figsize=(16,8))\n",
        "  plt.plot(K, distortions, 'bx-')\n",
        "  plt.xlabel('k')\n",
        "  plt.ylabel('Distortion')\n",
        "  plt.title('The Elbow Method showing the optimal k')\n",
        "  plt.show()"
      ]
    },
    {
      "cell_type": "markdown",
      "metadata": {
        "id": "0lq6Rb7RXScx"
      },
      "source": [
        "APPLYING KMEANS\n",
        "\n",
        "\n",
        "> Using K means model for clustering plant images based on extracted features. The above method uses Elbow method to find the optimal value of **k**. Here K is set as 3, resulting into 3 clusters as 0, 1, 2 respectively. \n",
        "\n"
      ]
    },
    {
      "cell_type": "code",
      "execution_count": 18,
      "metadata": {
        "colab": {
          "base_uri": "https://localhost:8080/",
          "height": 460
        },
        "id": "zoNKNL_5oHMJ",
        "outputId": "4f356bf5-7f64-4879-fc33-7fcb96ddb015"
      },
      "outputs": [
        {
          "data": {
            "image/png": "[encoded data removed]",
            "text/plain": [
              "<Figure size 1600x800 with 1 Axes>"
            ]
          },
          "metadata": {},
          "output_type": "display_data"
        },
        {
          "name": "stdout",
          "output_type": "stream",
          "text": [
            "[1 0 1 1 1 1 1 1 1 1 1 0 0 2 1 2 2 2 1 1 1 1 1 1 1 1 1 1 1 1 1 1 2 1 1 1 1\n",
            " 2 0 0 2 1 2 1 2 1 2 2 0 1 1 1 1 1 2 1 1 2 2 1 1 2 1 1 1 1 1 2 1 1 1 1 1 1\n",
            " 1 1 1 1 1 2 2 2 1 2 2 1 2 1 1 1 1 0 1 2 1 1 1 2 1 1 1 1 1 1 1 1 1 1 1 1 2\n",
            " 2 2 2 1 1 1 1 2 1 1 1 1 1 1 1 1 1 1 1 1 2 1 1 2 1 1 1 1 1 1 2 1 1 1 1 1 2\n",
            " 1 1 1 1 0 2 1 1 1 1 1 1 1 1 2 1 1 1 1 1 1 2 1 2 0 1 1 1 1 2 2 1 2 2 0 1 0\n",
            " 2]\n"
          ]
        }
      ],
      "source": [
        "from sklearn.cluster import KMeans\n",
        "\n",
        "# K-means\n",
        "f_vgg16 = [[d['x'],d['y'] ] for d in results_vgg16]\n",
        "\n",
        "kmean_elbow(f_vgg16)\n",
        "x = np.array(f_vgg16)[:,0]\n",
        "y = np.array(f_vgg16)[:,1]\n",
        "kmodel = KMeans(n_clusters=3,random_state=0).fit(f_vgg16)\n",
        "colors = ['red', 'blue', 'green']\n",
        "print(kmodel.labels_)\n"
      ]
    },
    {
      "cell_type": "markdown",
      "metadata": {
        "id": "zpD8yFmwjyEu"
      },
      "source": [
        "One of the requirement for this project is to check if the incoming image falls under the defined thresold when assigned to any of the three cluster. This is because K means always cluterized data points based on the nearest distance from centroid. Therefore, if incoming image is beyond thresold, we will be re-training the model to accomodate the respective image. \n",
        "\n",
        "\n",
        "> To calculate a threshold for K-means clustering for incoming data points using the maximum distance between data points and their assigned centroid. The threshold is defined as a multiple of the standard deviation of these distances.\n",
        "\n"
      ]
    },
    {
      "cell_type": "code",
      "execution_count": 95,
      "metadata": {
        "colab": {
          "base_uri": "https://localhost:8080/"
        },
        "id": "Q56Te3JFYQen",
        "outputId": "5a040549-ca23-4713-d846-6182ad38a4ba"
      },
      "outputs": [
        {
          "name": "stdout",
          "output_type": "stream",
          "text": [
            "6.005691440144201\n"
          ]
        }
      ],
      "source": [
        "# get the distances between data points and their assigned centroids\n",
        "distances = kmodel.transform(f_vgg16)\n",
        "\n",
        "# calculate the maximum distance between data points and their assigned centroids\n",
        "#max_distance = np.max(distances[np.arange(len(f_vgg16)), kmodel.labels_])\n",
        "\n",
        "# calculate the threshold as a multiple of the maximum distance\n",
        "#threshold = 1.5 * max_distance\n",
        "\n",
        "# calculate the median absolute deviation (MAD) of the distances\n",
        "med = np.median(distances)\n",
        "abs_dev = np.abs(distances - med)\n",
        "mad = np.median(abs_dev)\n",
        "\n",
        "# calculate the threshold as a multiple of the MAD\n",
        "threshold = 3 * mad\n",
        "\n",
        "print(threshold)"
      ]
    },
    {
      "cell_type": "code",
      "execution_count": 96,
      "metadata": {
        "colab": {
          "base_uri": "https://localhost:8080/"
        },
        "id": "t5tU81lL4dpa",
        "outputId": "72921903-6b00-4af7-e4c3-89f856d34b43"
      },
      "outputs": [
        {
          "name": "stdout",
          "output_type": "stream",
          "text": [
            "Cluster 0 thresold - 55.595454545454544\n",
            "Cluster 1 thresold - 27.91736842105263\n",
            "Cluster 2 thresold - 53.47785714285716\n"
          ]
        }
      ],
      "source": [
        "# squared distance to cluster center\n",
        "X_dist = kmodel.transform(f_vgg16)**2\n",
        "df = pandas.DataFrame(X_dist.sum(axis=1).round(2), columns=['sqdist'])\n",
        "df['label'] = kmodel.labels_\n",
        "sum_0 = 0\n",
        "sum_1 = 0\n",
        "sum_2 = 0\n",
        "for i,row in df.iterrows():\n",
        "    if row['label'] == 0:\n",
        "        sum_0+=row['sqdist']\n",
        "    elif row['label'] == 1:\n",
        "        sum_1+=row['sqdist']\n",
        "    elif row['label'] == 2:\n",
        "        sum_2+=row['sqdist']\n",
        "\n",
        "sum_0 = sum_0/(df[df['label'] == 0])['label'].count()\n",
        "sum_1 = sum_1/(df[df['label'] == 1])['label'].count()\n",
        "sum_2 = sum_2/(df[df['label'] == 2])['label'].count()\n",
        "average_dist = [sum_0,sum_1,sum_2]\n",
        "print(\"Cluster 0 thresold -\",sum_0)\n",
        "print(\"Cluster 1 thresold -\",sum_1)\n",
        "print(\"Cluster 2 thresold -\",sum_2)"
      ]
    },
    {
      "cell_type": "code",
      "execution_count": 97,
      "metadata": {
        "colab": {
          "base_uri": "https://localhost:8080/"
        },
        "id": "UMO9nqaMBvwo",
        "outputId": "53cdc9b8-aa9a-478a-d7d3-8047459535a7"
      },
      "outputs": [
        {
          "name": "stdout",
          "output_type": "stream",
          "text": [
            "Silhouetter Score: 0.607\n"
          ]
        }
      ],
      "source": [
        "\n",
        "# compute an average silhouette score for each point\n",
        "silhouette_score_average = metrics.silhouette_score(f_vgg16, kmodel.predict(f_vgg16))\n",
        "\n",
        "# lets see what that score it\n",
        "print('Silhouetter Score: %.3f' % silhouette_score_average)"
      ]
    },
    {
      "cell_type": "code",
      "execution_count": 98,
      "metadata": {
        "colab": {
          "base_uri": "https://localhost:8080/"
        },
        "id": "cBtqSo7FEJz8",
        "outputId": "cd6fb5bb-a605-4235-df0d-f5843151fc2c"
      },
      "outputs": [
        {
          "name": "stdout",
          "output_type": "stream",
          "text": [
            "Calinski-Harabasz Index: 210.1446704759284\n"
          ]
        }
      ],
      "source": [
        "from sklearn.metrics import calinski_harabasz_score\n",
        "\n",
        "# Calculate Calinski-Harabasz Index\n",
        "ch_score = calinski_harabasz_score(f_vgg16, kmodel.labels_)\n",
        "\n",
        "print(\"Calinski-Harabasz Index:\", ch_score)"
      ]
    },
    {
      "cell_type": "markdown",
      "metadata": {
        "id": "U5RMFK_j6LOD"
      },
      "source": [
        "## Serializing model - Creating .pickle file"
      ]
    },
    {
      "cell_type": "code",
      "execution_count": 99,
      "metadata": {
        "id": "eUb6df8Eh6Yp"
      },
      "outputs": [],
      "source": [
        "import pickle\n",
        "pickle.dump(kmodel, open(\"kmodel.pkl\", \"wb\"))\n",
        "pickle.dump(pca_model, open(\"pca.pkl\", \"wb\"))\n",
        "pickle.dump(average_dist,open(\"avg_dist.pkl\",\"wb\"))\n",
        "pickle.dump(threshold,open(\"threshold.pkl\",\"wb\"))\n",
        "pickle.dump(distances,open(\"distances.pkl\",\"wb\"))"
      ]
    },
    {
      "cell_type": "markdown",
      "metadata": {
        "id": "mt9ezjyu6rze"
      },
      "source": [
        "## Model Inference"
      ]
    },
    {
      "cell_type": "code",
      "execution_count": 25,
      "metadata": {
        "id": "TuxRXpUOiw2M"
      },
      "outputs": [],
      "source": [
        "# load the model\n",
        "model_k = pickle.load(open(\"kmodel.pkl\", \"rb\"))\n",
        "pca_model = pickle.load(open(\"pca.pkl\", \"rb\"))\n",
        "avg_dict = pickle.load(open(\"avg_dist.pkl\", \"rb\"))"
      ]
    },
    {
      "cell_type": "code",
      "execution_count": 26,
      "metadata": {
        "id": "g57yGcQPjbbr"
      },
      "outputs": [],
      "source": [
        "def process_test_image(img_path):\n",
        "      try:\n",
        "            # load image setting the image size to 224 x 224\n",
        "            img = image.load_img(img_path, target_size=(224, 224))\n",
        "            # convert image to numpy array\n",
        "            x = image.img_to_array(img)\n",
        "           \n",
        "            # the image is now in an array of shape (3, 224, 224)\n",
        "            # but we need to expand it to (1, 2, 224, 224) as Keras is expecting a list of images\n",
        "            x = np.expand_dims(x, axis=0)\n",
        "            x = preprocess_input(x)\n",
        "\n",
        "            \n",
        "            model_vgg16 = applications.vgg16.VGG16(weights='imagenet', include_top=False, pooling='avg')\n",
        "           \n",
        "            # extract the features\n",
        "            features = model_vgg16.predict(x)[0]\n",
        "            # convert from Numpy to a list of values\n",
        "            features_arr = np.char.mod('%f', features)\n",
        "            feature_list =  ','.join(features_arr)\n",
        "            transformed = feature_list.split(',')\n",
        "         \n",
        "            # convert image data to float64 matrix. float64 is need for bh_sne\n",
        "            x_data = np.asarray(transformed).astype('float64')\n",
        "            x_data = x_data.reshape((1,-1))\n",
        "            # perform t-SNE\n",
        "           \n",
        "            vis_data = pca_model.transform(x_data)\n",
        "\n",
        "\n",
        "            # convert the results into a list of dict\n",
        "            results = []\n",
        "            return vis_data[0][0], vis_data[0][1]\n",
        "      except Exception as ex:\n",
        "            # skip all exceptions for now\n",
        "            print(ex)\n",
        "            pass\n"
      ]
    },
    {
      "cell_type": "code",
      "execution_count": 84,
      "metadata": {
        "colab": {
          "base_uri": "https://localhost:8080/"
        },
        "id": "BqXYc6M_i2ZY",
        "outputId": "c30457f6-1a52-4380-8718-c988a5f31826"
      },
      "outputs": [
        {
          "name": "stdout",
          "output_type": "stream",
          "text": [
            "1/1 [==============================] - 1s 1s/step\n",
            "[21.93455118977603, -2.1062995849164468]\n",
            "0 0.531544422465855\n"
          ]
        }
      ],
      "source": [
        "x1,y1 = process_test_image('gfp/37+55 cc36.png')\n",
        "print([x1,y1])\n",
        "cluster_id_prediction = model_k.predict(np.array([x1,y1]).reshape((1,-1)))[0]\n",
        "cluster_distance = min(preprocessing.normalize(model_k.transform(np.array([x1,y1]).reshape((1,-1))))[0])\n",
        "\n",
        "print(cluster_id_prediction,cluster_distance)\n"
      ]
    },
    {
      "cell_type": "code",
      "execution_count": 85,
      "metadata": {
        "colab": {
          "base_uri": "https://localhost:8080/"
        },
        "id": "ofKgvcr7YjkF",
        "outputId": "407b01c0-1660-412b-befb-2540534a9c97"
      },
      "outputs": [
        {
          "name": "stdout",
          "output_type": "stream",
          "text": [
            "4.039347347544406\n"
          ]
        }
      ],
      "source": [
        "distance = distances[0, cluster_id_prediction]\n",
        "print(distance)"
      ]
    }
  ],
  "metadata": {
    "colab": {
      "collapsed_sections": [
        "mt9ezjyu6rze"
      ],
      "provenance": []
    },
    "kernelspec": {
      "display_name": "Python 3",
      "language": "python",
      "name": "python3"
    },
    "language_info": {
      "codemirror_mode": {
        "name": "ipython",
        "version": 3
      },
      "file_extension": ".py",
      "mimetype": "text/x-python",
      "name": "python",
      "nbconvert_exporter": "python",
      "pygments_lexer": "ipython3",
      "version": "3.6.3"
    }
  },
  "nbformat": 4,
  "nbformat_minor": 0
}
